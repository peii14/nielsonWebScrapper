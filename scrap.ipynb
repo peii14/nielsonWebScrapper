{
 "cells": [
  {
   "cell_type": "code",
   "execution_count": 1,
   "metadata": {},
   "outputs": [],
   "source": [
    "import pandas as pd\n",
    "import numpy as np\n",
    "import matplotlib as plt\n",
    "import seaborn as sns\n",
    "import selenium\n",
    "from selenium import webdriver as wb\n",
    "import os.path\n",
    "\n",
    "%matplotlib inline"
   ]
  },
  {
   "cell_type": "code",
   "execution_count": 75,
   "metadata": {},
   "outputs": [],
   "source": [
    "from selenium import webdriver\n",
    "from selenium.webdriver.firefox.options import Options\n",
    "from selenium.webdriver.common.keys import Keys"
   ]
  },
  {
   "cell_type": "code",
   "execution_count": 3,
   "metadata": {},
   "outputs": [
    {
     "name": "stderr",
     "output_type": "stream",
     "text": [
      "/var/folders/db/q45d2_5d0c52zkvrdw9tp0xm0000gn/T/ipykernel_5737/2331604729.py:3: DeprecationWarning: executable_path has been deprecated, please pass in a Service object\n",
      "  driver = webdriver.Firefox(executable_path='./geckodriver', options=options)\n"
     ]
    }
   ],
   "source": [
    "options = Options()\n",
    "options.binary_location = '/Applications/Firefox Developer Edition.app/Contents/MacOS/firefox-bin'\n",
    "driver = webdriver.Firefox(executable_path='./geckodriver', options=options)\n",
    "driver.get('https://www.klikindomaret.com/promosi-bulan-ini-jan-3')"
   ]
  },
  {
   "cell_type": "code",
   "execution_count": 209,
   "metadata": {},
   "outputs": [],
   "source": [
    "def write(Category,product,regPrice,promoPrice,desc,id):\n",
    "    file = pd.DataFrame(\n",
    "        {\n",
    "            \"Catégorie\":Category,\n",
    "            \"Produit\":product,\n",
    "            \"Prix Habituel\":regPrice,\n",
    "            \"Prix\":promoPrice,\n",
    "            \"Description\":desc,\n",
    "        },\n",
    "        index =[id]\n",
    "    )\n",
    "    if(os.path.isfile('file.csv')):\n",
    "        file.to_csv(\"file.csv\",header = True)\n",
    "    else:\n",
    "        file.to_csv(\"file.csv\",header=False)"
   ]
  },
  {
   "cell_type": "code",
   "execution_count": 202,
   "metadata": {},
   "outputs": [
    {
     "name": "stderr",
     "output_type": "stream",
     "text": [
      "/var/folders/db/q45d2_5d0c52zkvrdw9tp0xm0000gn/T/ipykernel_5737/3316266072.py:2: DeprecationWarning: find_element_by_* commands are deprecated. Please use find_element() instead\n",
      "  boxitem = driver.find_element_by_xpath(\"//div[@class='box-item clearfix']\")\n"
     ]
    }
   ],
   "source": [
    "action = webdriver.ActionChains(driver)\n",
    "boxitem = driver.find_element_by_xpath(\"//div[@class='box-item clearfix']\")\n",
    "items = boxitem.find_elements_by_class_name('item')\n"
   ]
  },
  {
   "cell_type": "code",
   "execution_count": 216,
   "metadata": {},
   "outputs": [
    {
     "name": "stderr",
     "output_type": "stream",
     "text": [
      "/var/folders/db/q45d2_5d0c52zkvrdw9tp0xm0000gn/T/ipykernel_5737/1366429987.py:3: DeprecationWarning: find_element_by_* commands are deprecated. Please use find_element() instead\n",
      "  boxitem = driver.find_element_by_xpath(\"//div[@class='box-item clearfix']\")\n",
      "/Users/gayuhkautaman/miniforge3/envs/dataMining/lib/python3.10/site-packages/selenium/webdriver/remote/webelement.py:464: UserWarning: find_elements_by_* commands are deprecated. Please use find_elements() instead\n",
      "  warnings.warn(\"find_elements_by_* commands are deprecated. Please use find_elements() instead\")\n",
      "/Users/gayuhkautaman/miniforge3/envs/dataMining/lib/python3.10/site-packages/selenium/webdriver/remote/webelement.py:446: UserWarning: find_element_by_* commands are deprecated. Please use find_element() instead\n",
      "  warnings.warn(\"find_element_by_* commands are deprecated. Please use find_element() instead\")\n"
     ]
    },
    {
     "name": "stdout",
     "output_type": "stream",
     "text": [
      "Collecting Cats\n",
      "Collecting Prix\n",
      "Collecting Desc\n",
      "Writing...\n",
      "Next OBJ\n"
     ]
    },
    {
     "name": "stderr",
     "output_type": "stream",
     "text": [
      "/var/folders/db/q45d2_5d0c52zkvrdw9tp0xm0000gn/T/ipykernel_5737/1366429987.py:8: DeprecationWarning: find_element_by_* commands are deprecated. Please use find_element() instead\n",
      "  tmpCategory = driver.find_element_by_class_name(\"breadcrumb\").text\n",
      "/var/folders/db/q45d2_5d0c52zkvrdw9tp0xm0000gn/T/ipykernel_5737/1366429987.py:14: DeprecationWarning: find_element_by_* commands are deprecated. Please use find_element() instead\n",
      "  regPrice = driver.find_element_by_class_name(\"disc-price\").text\n",
      "/var/folders/db/q45d2_5d0c52zkvrdw9tp0xm0000gn/T/ipykernel_5737/1366429987.py:19: DeprecationWarning: find_element_by_* commands are deprecated. Please use find_element() instead\n",
      "  tmppromoPrice = driver.find_element_by_class_name(\"price-value\").text\n",
      "/var/folders/db/q45d2_5d0c52zkvrdw9tp0xm0000gn/T/ipykernel_5737/1366429987.py:23: DeprecationWarning: find_element_by_* commands are deprecated. Please use find_element() instead\n",
      "  desc =  driver.find_element_by_class_name('productspec').text\n",
      "/var/folders/db/q45d2_5d0c52zkvrdw9tp0xm0000gn/T/ipykernel_5737/1366429987.py:3: DeprecationWarning: find_element_by_* commands are deprecated. Please use find_element() instead\n",
      "  boxitem = driver.find_element_by_xpath(\"//div[@class='box-item clearfix']\")\n",
      "/Users/gayuhkautaman/miniforge3/envs/dataMining/lib/python3.10/site-packages/selenium/webdriver/remote/webelement.py:464: UserWarning: find_elements_by_* commands are deprecated. Please use find_elements() instead\n",
      "  warnings.warn(\"find_elements_by_* commands are deprecated. Please use find_elements() instead\")\n",
      "/Users/gayuhkautaman/miniforge3/envs/dataMining/lib/python3.10/site-packages/selenium/webdriver/remote/webelement.py:446: UserWarning: find_element_by_* commands are deprecated. Please use find_element() instead\n",
      "  warnings.warn(\"find_element_by_* commands are deprecated. Please use find_element() instead\")\n"
     ]
    },
    {
     "name": "stdout",
     "output_type": "stream",
     "text": [
      "Collecting Cats\n",
      "Collecting Prix\n",
      "NO DATA\n",
      "Collecting Desc\n",
      "Writing...\n",
      "Next OBJ\n"
     ]
    },
    {
     "name": "stderr",
     "output_type": "stream",
     "text": [
      "/var/folders/db/q45d2_5d0c52zkvrdw9tp0xm0000gn/T/ipykernel_5737/1366429987.py:8: DeprecationWarning: find_element_by_* commands are deprecated. Please use find_element() instead\n",
      "  tmpCategory = driver.find_element_by_class_name(\"breadcrumb\").text\n",
      "/var/folders/db/q45d2_5d0c52zkvrdw9tp0xm0000gn/T/ipykernel_5737/1366429987.py:14: DeprecationWarning: find_element_by_* commands are deprecated. Please use find_element() instead\n",
      "  regPrice = driver.find_element_by_class_name(\"disc-price\").text\n",
      "/var/folders/db/q45d2_5d0c52zkvrdw9tp0xm0000gn/T/ipykernel_5737/1366429987.py:19: DeprecationWarning: find_element_by_* commands are deprecated. Please use find_element() instead\n",
      "  tmppromoPrice = driver.find_element_by_class_name(\"price-value\").text\n",
      "/var/folders/db/q45d2_5d0c52zkvrdw9tp0xm0000gn/T/ipykernel_5737/1366429987.py:23: DeprecationWarning: find_element_by_* commands are deprecated. Please use find_element() instead\n",
      "  desc =  driver.find_element_by_class_name('productspec').text\n",
      "/var/folders/db/q45d2_5d0c52zkvrdw9tp0xm0000gn/T/ipykernel_5737/1366429987.py:3: DeprecationWarning: find_element_by_* commands are deprecated. Please use find_element() instead\n",
      "  boxitem = driver.find_element_by_xpath(\"//div[@class='box-item clearfix']\")\n",
      "/Users/gayuhkautaman/miniforge3/envs/dataMining/lib/python3.10/site-packages/selenium/webdriver/remote/webelement.py:464: UserWarning: find_elements_by_* commands are deprecated. Please use find_elements() instead\n",
      "  warnings.warn(\"find_elements_by_* commands are deprecated. Please use find_elements() instead\")\n",
      "/Users/gayuhkautaman/miniforge3/envs/dataMining/lib/python3.10/site-packages/selenium/webdriver/remote/webelement.py:446: UserWarning: find_element_by_* commands are deprecated. Please use find_element() instead\n",
      "  warnings.warn(\"find_element_by_* commands are deprecated. Please use find_element() instead\")\n"
     ]
    },
    {
     "name": "stdout",
     "output_type": "stream",
     "text": [
      "Collecting Cats\n",
      "Collecting Prix\n",
      "NO DATA\n",
      "Collecting Desc\n",
      "Writing...\n",
      "Next OBJ\n"
     ]
    },
    {
     "name": "stderr",
     "output_type": "stream",
     "text": [
      "/var/folders/db/q45d2_5d0c52zkvrdw9tp0xm0000gn/T/ipykernel_5737/1366429987.py:8: DeprecationWarning: find_element_by_* commands are deprecated. Please use find_element() instead\n",
      "  tmpCategory = driver.find_element_by_class_name(\"breadcrumb\").text\n",
      "/var/folders/db/q45d2_5d0c52zkvrdw9tp0xm0000gn/T/ipykernel_5737/1366429987.py:14: DeprecationWarning: find_element_by_* commands are deprecated. Please use find_element() instead\n",
      "  regPrice = driver.find_element_by_class_name(\"disc-price\").text\n",
      "/var/folders/db/q45d2_5d0c52zkvrdw9tp0xm0000gn/T/ipykernel_5737/1366429987.py:19: DeprecationWarning: find_element_by_* commands are deprecated. Please use find_element() instead\n",
      "  tmppromoPrice = driver.find_element_by_class_name(\"price-value\").text\n",
      "/var/folders/db/q45d2_5d0c52zkvrdw9tp0xm0000gn/T/ipykernel_5737/1366429987.py:23: DeprecationWarning: find_element_by_* commands are deprecated. Please use find_element() instead\n",
      "  desc =  driver.find_element_by_class_name('productspec').text\n",
      "/var/folders/db/q45d2_5d0c52zkvrdw9tp0xm0000gn/T/ipykernel_5737/1366429987.py:3: DeprecationWarning: find_element_by_* commands are deprecated. Please use find_element() instead\n",
      "  boxitem = driver.find_element_by_xpath(\"//div[@class='box-item clearfix']\")\n",
      "/Users/gayuhkautaman/miniforge3/envs/dataMining/lib/python3.10/site-packages/selenium/webdriver/remote/webelement.py:464: UserWarning: find_elements_by_* commands are deprecated. Please use find_elements() instead\n",
      "  warnings.warn(\"find_elements_by_* commands are deprecated. Please use find_elements() instead\")\n",
      "/Users/gayuhkautaman/miniforge3/envs/dataMining/lib/python3.10/site-packages/selenium/webdriver/remote/webelement.py:446: UserWarning: find_element_by_* commands are deprecated. Please use find_element() instead\n",
      "  warnings.warn(\"find_element_by_* commands are deprecated. Please use find_element() instead\")\n"
     ]
    },
    {
     "name": "stdout",
     "output_type": "stream",
     "text": [
      "Collecting Cats\n",
      "Collecting Prix\n",
      "Collecting Desc\n",
      "Writing...\n",
      "Next OBJ\n"
     ]
    },
    {
     "name": "stderr",
     "output_type": "stream",
     "text": [
      "/var/folders/db/q45d2_5d0c52zkvrdw9tp0xm0000gn/T/ipykernel_5737/1366429987.py:8: DeprecationWarning: find_element_by_* commands are deprecated. Please use find_element() instead\n",
      "  tmpCategory = driver.find_element_by_class_name(\"breadcrumb\").text\n",
      "/var/folders/db/q45d2_5d0c52zkvrdw9tp0xm0000gn/T/ipykernel_5737/1366429987.py:14: DeprecationWarning: find_element_by_* commands are deprecated. Please use find_element() instead\n",
      "  regPrice = driver.find_element_by_class_name(\"disc-price\").text\n",
      "/var/folders/db/q45d2_5d0c52zkvrdw9tp0xm0000gn/T/ipykernel_5737/1366429987.py:19: DeprecationWarning: find_element_by_* commands are deprecated. Please use find_element() instead\n",
      "  tmppromoPrice = driver.find_element_by_class_name(\"price-value\").text\n",
      "/var/folders/db/q45d2_5d0c52zkvrdw9tp0xm0000gn/T/ipykernel_5737/1366429987.py:23: DeprecationWarning: find_element_by_* commands are deprecated. Please use find_element() instead\n",
      "  desc =  driver.find_element_by_class_name('productspec').text\n",
      "/var/folders/db/q45d2_5d0c52zkvrdw9tp0xm0000gn/T/ipykernel_5737/1366429987.py:3: DeprecationWarning: find_element_by_* commands are deprecated. Please use find_element() instead\n",
      "  boxitem = driver.find_element_by_xpath(\"//div[@class='box-item clearfix']\")\n",
      "/Users/gayuhkautaman/miniforge3/envs/dataMining/lib/python3.10/site-packages/selenium/webdriver/remote/webelement.py:464: UserWarning: find_elements_by_* commands are deprecated. Please use find_elements() instead\n",
      "  warnings.warn(\"find_elements_by_* commands are deprecated. Please use find_elements() instead\")\n",
      "/Users/gayuhkautaman/miniforge3/envs/dataMining/lib/python3.10/site-packages/selenium/webdriver/remote/webelement.py:446: UserWarning: find_element_by_* commands are deprecated. Please use find_element() instead\n",
      "  warnings.warn(\"find_element_by_* commands are deprecated. Please use find_element() instead\")\n"
     ]
    },
    {
     "name": "stdout",
     "output_type": "stream",
     "text": [
      "Collecting Cats\n",
      "Collecting Prix\n",
      "Collecting Desc\n",
      "Writing...\n",
      "Next OBJ\n"
     ]
    },
    {
     "name": "stderr",
     "output_type": "stream",
     "text": [
      "/var/folders/db/q45d2_5d0c52zkvrdw9tp0xm0000gn/T/ipykernel_5737/1366429987.py:8: DeprecationWarning: find_element_by_* commands are deprecated. Please use find_element() instead\n",
      "  tmpCategory = driver.find_element_by_class_name(\"breadcrumb\").text\n",
      "/var/folders/db/q45d2_5d0c52zkvrdw9tp0xm0000gn/T/ipykernel_5737/1366429987.py:14: DeprecationWarning: find_element_by_* commands are deprecated. Please use find_element() instead\n",
      "  regPrice = driver.find_element_by_class_name(\"disc-price\").text\n",
      "/var/folders/db/q45d2_5d0c52zkvrdw9tp0xm0000gn/T/ipykernel_5737/1366429987.py:19: DeprecationWarning: find_element_by_* commands are deprecated. Please use find_element() instead\n",
      "  tmppromoPrice = driver.find_element_by_class_name(\"price-value\").text\n",
      "/var/folders/db/q45d2_5d0c52zkvrdw9tp0xm0000gn/T/ipykernel_5737/1366429987.py:23: DeprecationWarning: find_element_by_* commands are deprecated. Please use find_element() instead\n",
      "  desc =  driver.find_element_by_class_name('productspec').text\n",
      "/var/folders/db/q45d2_5d0c52zkvrdw9tp0xm0000gn/T/ipykernel_5737/1366429987.py:3: DeprecationWarning: find_element_by_* commands are deprecated. Please use find_element() instead\n",
      "  boxitem = driver.find_element_by_xpath(\"//div[@class='box-item clearfix']\")\n",
      "/Users/gayuhkautaman/miniforge3/envs/dataMining/lib/python3.10/site-packages/selenium/webdriver/remote/webelement.py:464: UserWarning: find_elements_by_* commands are deprecated. Please use find_elements() instead\n",
      "  warnings.warn(\"find_elements_by_* commands are deprecated. Please use find_elements() instead\")\n",
      "/Users/gayuhkautaman/miniforge3/envs/dataMining/lib/python3.10/site-packages/selenium/webdriver/remote/webelement.py:446: UserWarning: find_element_by_* commands are deprecated. Please use find_element() instead\n",
      "  warnings.warn(\"find_element_by_* commands are deprecated. Please use find_element() instead\")\n"
     ]
    },
    {
     "name": "stdout",
     "output_type": "stream",
     "text": [
      "Collecting Cats\n",
      "Collecting Prix\n",
      "Collecting Desc\n",
      "Writing...\n",
      "Next OBJ\n"
     ]
    },
    {
     "name": "stderr",
     "output_type": "stream",
     "text": [
      "/var/folders/db/q45d2_5d0c52zkvrdw9tp0xm0000gn/T/ipykernel_5737/1366429987.py:8: DeprecationWarning: find_element_by_* commands are deprecated. Please use find_element() instead\n",
      "  tmpCategory = driver.find_element_by_class_name(\"breadcrumb\").text\n",
      "/var/folders/db/q45d2_5d0c52zkvrdw9tp0xm0000gn/T/ipykernel_5737/1366429987.py:14: DeprecationWarning: find_element_by_* commands are deprecated. Please use find_element() instead\n",
      "  regPrice = driver.find_element_by_class_name(\"disc-price\").text\n",
      "/var/folders/db/q45d2_5d0c52zkvrdw9tp0xm0000gn/T/ipykernel_5737/1366429987.py:19: DeprecationWarning: find_element_by_* commands are deprecated. Please use find_element() instead\n",
      "  tmppromoPrice = driver.find_element_by_class_name(\"price-value\").text\n",
      "/var/folders/db/q45d2_5d0c52zkvrdw9tp0xm0000gn/T/ipykernel_5737/1366429987.py:23: DeprecationWarning: find_element_by_* commands are deprecated. Please use find_element() instead\n",
      "  desc =  driver.find_element_by_class_name('productspec').text\n",
      "/var/folders/db/q45d2_5d0c52zkvrdw9tp0xm0000gn/T/ipykernel_5737/1366429987.py:3: DeprecationWarning: find_element_by_* commands are deprecated. Please use find_element() instead\n",
      "  boxitem = driver.find_element_by_xpath(\"//div[@class='box-item clearfix']\")\n",
      "/Users/gayuhkautaman/miniforge3/envs/dataMining/lib/python3.10/site-packages/selenium/webdriver/remote/webelement.py:464: UserWarning: find_elements_by_* commands are deprecated. Please use find_elements() instead\n",
      "  warnings.warn(\"find_elements_by_* commands are deprecated. Please use find_elements() instead\")\n",
      "/Users/gayuhkautaman/miniforge3/envs/dataMining/lib/python3.10/site-packages/selenium/webdriver/remote/webelement.py:446: UserWarning: find_element_by_* commands are deprecated. Please use find_element() instead\n",
      "  warnings.warn(\"find_element_by_* commands are deprecated. Please use find_element() instead\")\n"
     ]
    },
    {
     "name": "stdout",
     "output_type": "stream",
     "text": [
      "Collecting Cats\n",
      "Collecting Prix\n",
      "NO DATA\n",
      "Collecting Desc\n",
      "Writing...\n",
      "Next OBJ\n"
     ]
    },
    {
     "name": "stderr",
     "output_type": "stream",
     "text": [
      "/var/folders/db/q45d2_5d0c52zkvrdw9tp0xm0000gn/T/ipykernel_5737/1366429987.py:8: DeprecationWarning: find_element_by_* commands are deprecated. Please use find_element() instead\n",
      "  tmpCategory = driver.find_element_by_class_name(\"breadcrumb\").text\n",
      "/var/folders/db/q45d2_5d0c52zkvrdw9tp0xm0000gn/T/ipykernel_5737/1366429987.py:14: DeprecationWarning: find_element_by_* commands are deprecated. Please use find_element() instead\n",
      "  regPrice = driver.find_element_by_class_name(\"disc-price\").text\n",
      "/var/folders/db/q45d2_5d0c52zkvrdw9tp0xm0000gn/T/ipykernel_5737/1366429987.py:19: DeprecationWarning: find_element_by_* commands are deprecated. Please use find_element() instead\n",
      "  tmppromoPrice = driver.find_element_by_class_name(\"price-value\").text\n",
      "/var/folders/db/q45d2_5d0c52zkvrdw9tp0xm0000gn/T/ipykernel_5737/1366429987.py:23: DeprecationWarning: find_element_by_* commands are deprecated. Please use find_element() instead\n",
      "  desc =  driver.find_element_by_class_name('productspec').text\n",
      "/var/folders/db/q45d2_5d0c52zkvrdw9tp0xm0000gn/T/ipykernel_5737/1366429987.py:3: DeprecationWarning: find_element_by_* commands are deprecated. Please use find_element() instead\n",
      "  boxitem = driver.find_element_by_xpath(\"//div[@class='box-item clearfix']\")\n",
      "/Users/gayuhkautaman/miniforge3/envs/dataMining/lib/python3.10/site-packages/selenium/webdriver/remote/webelement.py:464: UserWarning: find_elements_by_* commands are deprecated. Please use find_elements() instead\n",
      "  warnings.warn(\"find_elements_by_* commands are deprecated. Please use find_elements() instead\")\n",
      "/Users/gayuhkautaman/miniforge3/envs/dataMining/lib/python3.10/site-packages/selenium/webdriver/remote/webelement.py:446: UserWarning: find_element_by_* commands are deprecated. Please use find_element() instead\n",
      "  warnings.warn(\"find_element_by_* commands are deprecated. Please use find_element() instead\")\n"
     ]
    },
    {
     "name": "stdout",
     "output_type": "stream",
     "text": [
      "Collecting Cats\n",
      "Collecting Prix\n",
      "Collecting Desc\n",
      "Writing...\n",
      "Next OBJ\n"
     ]
    },
    {
     "name": "stderr",
     "output_type": "stream",
     "text": [
      "/var/folders/db/q45d2_5d0c52zkvrdw9tp0xm0000gn/T/ipykernel_5737/1366429987.py:8: DeprecationWarning: find_element_by_* commands are deprecated. Please use find_element() instead\n",
      "  tmpCategory = driver.find_element_by_class_name(\"breadcrumb\").text\n",
      "/var/folders/db/q45d2_5d0c52zkvrdw9tp0xm0000gn/T/ipykernel_5737/1366429987.py:14: DeprecationWarning: find_element_by_* commands are deprecated. Please use find_element() instead\n",
      "  regPrice = driver.find_element_by_class_name(\"disc-price\").text\n",
      "/var/folders/db/q45d2_5d0c52zkvrdw9tp0xm0000gn/T/ipykernel_5737/1366429987.py:19: DeprecationWarning: find_element_by_* commands are deprecated. Please use find_element() instead\n",
      "  tmppromoPrice = driver.find_element_by_class_name(\"price-value\").text\n",
      "/var/folders/db/q45d2_5d0c52zkvrdw9tp0xm0000gn/T/ipykernel_5737/1366429987.py:23: DeprecationWarning: find_element_by_* commands are deprecated. Please use find_element() instead\n",
      "  desc =  driver.find_element_by_class_name('productspec').text\n",
      "/var/folders/db/q45d2_5d0c52zkvrdw9tp0xm0000gn/T/ipykernel_5737/1366429987.py:3: DeprecationWarning: find_element_by_* commands are deprecated. Please use find_element() instead\n",
      "  boxitem = driver.find_element_by_xpath(\"//div[@class='box-item clearfix']\")\n",
      "/Users/gayuhkautaman/miniforge3/envs/dataMining/lib/python3.10/site-packages/selenium/webdriver/remote/webelement.py:464: UserWarning: find_elements_by_* commands are deprecated. Please use find_elements() instead\n",
      "  warnings.warn(\"find_elements_by_* commands are deprecated. Please use find_elements() instead\")\n",
      "/Users/gayuhkautaman/miniforge3/envs/dataMining/lib/python3.10/site-packages/selenium/webdriver/remote/webelement.py:446: UserWarning: find_element_by_* commands are deprecated. Please use find_element() instead\n",
      "  warnings.warn(\"find_element_by_* commands are deprecated. Please use find_element() instead\")\n"
     ]
    },
    {
     "name": "stdout",
     "output_type": "stream",
     "text": [
      "Collecting Cats\n",
      "Collecting Prix\n",
      "Collecting Desc\n",
      "Writing...\n",
      "Next OBJ\n"
     ]
    },
    {
     "name": "stderr",
     "output_type": "stream",
     "text": [
      "/var/folders/db/q45d2_5d0c52zkvrdw9tp0xm0000gn/T/ipykernel_5737/1366429987.py:8: DeprecationWarning: find_element_by_* commands are deprecated. Please use find_element() instead\n",
      "  tmpCategory = driver.find_element_by_class_name(\"breadcrumb\").text\n",
      "/var/folders/db/q45d2_5d0c52zkvrdw9tp0xm0000gn/T/ipykernel_5737/1366429987.py:14: DeprecationWarning: find_element_by_* commands are deprecated. Please use find_element() instead\n",
      "  regPrice = driver.find_element_by_class_name(\"disc-price\").text\n",
      "/var/folders/db/q45d2_5d0c52zkvrdw9tp0xm0000gn/T/ipykernel_5737/1366429987.py:19: DeprecationWarning: find_element_by_* commands are deprecated. Please use find_element() instead\n",
      "  tmppromoPrice = driver.find_element_by_class_name(\"price-value\").text\n",
      "/var/folders/db/q45d2_5d0c52zkvrdw9tp0xm0000gn/T/ipykernel_5737/1366429987.py:23: DeprecationWarning: find_element_by_* commands are deprecated. Please use find_element() instead\n",
      "  desc =  driver.find_element_by_class_name('productspec').text\n",
      "/var/folders/db/q45d2_5d0c52zkvrdw9tp0xm0000gn/T/ipykernel_5737/1366429987.py:3: DeprecationWarning: find_element_by_* commands are deprecated. Please use find_element() instead\n",
      "  boxitem = driver.find_element_by_xpath(\"//div[@class='box-item clearfix']\")\n",
      "/Users/gayuhkautaman/miniforge3/envs/dataMining/lib/python3.10/site-packages/selenium/webdriver/remote/webelement.py:464: UserWarning: find_elements_by_* commands are deprecated. Please use find_elements() instead\n",
      "  warnings.warn(\"find_elements_by_* commands are deprecated. Please use find_elements() instead\")\n",
      "/Users/gayuhkautaman/miniforge3/envs/dataMining/lib/python3.10/site-packages/selenium/webdriver/remote/webelement.py:446: UserWarning: find_element_by_* commands are deprecated. Please use find_element() instead\n",
      "  warnings.warn(\"find_element_by_* commands are deprecated. Please use find_element() instead\")\n"
     ]
    },
    {
     "name": "stdout",
     "output_type": "stream",
     "text": [
      "Collecting Cats\n",
      "Collecting Prix\n",
      "NO DATA\n",
      "Collecting Desc\n",
      "Writing...\n",
      "Next OBJ\n"
     ]
    },
    {
     "name": "stderr",
     "output_type": "stream",
     "text": [
      "/var/folders/db/q45d2_5d0c52zkvrdw9tp0xm0000gn/T/ipykernel_5737/1366429987.py:8: DeprecationWarning: find_element_by_* commands are deprecated. Please use find_element() instead\n",
      "  tmpCategory = driver.find_element_by_class_name(\"breadcrumb\").text\n",
      "/var/folders/db/q45d2_5d0c52zkvrdw9tp0xm0000gn/T/ipykernel_5737/1366429987.py:14: DeprecationWarning: find_element_by_* commands are deprecated. Please use find_element() instead\n",
      "  regPrice = driver.find_element_by_class_name(\"disc-price\").text\n",
      "/var/folders/db/q45d2_5d0c52zkvrdw9tp0xm0000gn/T/ipykernel_5737/1366429987.py:19: DeprecationWarning: find_element_by_* commands are deprecated. Please use find_element() instead\n",
      "  tmppromoPrice = driver.find_element_by_class_name(\"price-value\").text\n",
      "/var/folders/db/q45d2_5d0c52zkvrdw9tp0xm0000gn/T/ipykernel_5737/1366429987.py:23: DeprecationWarning: find_element_by_* commands are deprecated. Please use find_element() instead\n",
      "  desc =  driver.find_element_by_class_name('productspec').text\n",
      "/var/folders/db/q45d2_5d0c52zkvrdw9tp0xm0000gn/T/ipykernel_5737/1366429987.py:3: DeprecationWarning: find_element_by_* commands are deprecated. Please use find_element() instead\n",
      "  boxitem = driver.find_element_by_xpath(\"//div[@class='box-item clearfix']\")\n",
      "/Users/gayuhkautaman/miniforge3/envs/dataMining/lib/python3.10/site-packages/selenium/webdriver/remote/webelement.py:464: UserWarning: find_elements_by_* commands are deprecated. Please use find_elements() instead\n",
      "  warnings.warn(\"find_elements_by_* commands are deprecated. Please use find_elements() instead\")\n",
      "/Users/gayuhkautaman/miniforge3/envs/dataMining/lib/python3.10/site-packages/selenium/webdriver/remote/webelement.py:446: UserWarning: find_element_by_* commands are deprecated. Please use find_element() instead\n",
      "  warnings.warn(\"find_element_by_* commands are deprecated. Please use find_element() instead\")\n"
     ]
    },
    {
     "name": "stdout",
     "output_type": "stream",
     "text": [
      "Collecting Cats\n",
      "Collecting Prix\n",
      "Collecting Desc\n",
      "Writing...\n",
      "Next OBJ\n"
     ]
    },
    {
     "name": "stderr",
     "output_type": "stream",
     "text": [
      "/var/folders/db/q45d2_5d0c52zkvrdw9tp0xm0000gn/T/ipykernel_5737/1366429987.py:8: DeprecationWarning: find_element_by_* commands are deprecated. Please use find_element() instead\n",
      "  tmpCategory = driver.find_element_by_class_name(\"breadcrumb\").text\n",
      "/var/folders/db/q45d2_5d0c52zkvrdw9tp0xm0000gn/T/ipykernel_5737/1366429987.py:14: DeprecationWarning: find_element_by_* commands are deprecated. Please use find_element() instead\n",
      "  regPrice = driver.find_element_by_class_name(\"disc-price\").text\n",
      "/var/folders/db/q45d2_5d0c52zkvrdw9tp0xm0000gn/T/ipykernel_5737/1366429987.py:19: DeprecationWarning: find_element_by_* commands are deprecated. Please use find_element() instead\n",
      "  tmppromoPrice = driver.find_element_by_class_name(\"price-value\").text\n",
      "/var/folders/db/q45d2_5d0c52zkvrdw9tp0xm0000gn/T/ipykernel_5737/1366429987.py:23: DeprecationWarning: find_element_by_* commands are deprecated. Please use find_element() instead\n",
      "  desc =  driver.find_element_by_class_name('productspec').text\n",
      "/var/folders/db/q45d2_5d0c52zkvrdw9tp0xm0000gn/T/ipykernel_5737/1366429987.py:3: DeprecationWarning: find_element_by_* commands are deprecated. Please use find_element() instead\n",
      "  boxitem = driver.find_element_by_xpath(\"//div[@class='box-item clearfix']\")\n",
      "/Users/gayuhkautaman/miniforge3/envs/dataMining/lib/python3.10/site-packages/selenium/webdriver/remote/webelement.py:464: UserWarning: find_elements_by_* commands are deprecated. Please use find_elements() instead\n",
      "  warnings.warn(\"find_elements_by_* commands are deprecated. Please use find_elements() instead\")\n",
      "/Users/gayuhkautaman/miniforge3/envs/dataMining/lib/python3.10/site-packages/selenium/webdriver/remote/webelement.py:446: UserWarning: find_element_by_* commands are deprecated. Please use find_element() instead\n",
      "  warnings.warn(\"find_element_by_* commands are deprecated. Please use find_element() instead\")\n"
     ]
    },
    {
     "name": "stdout",
     "output_type": "stream",
     "text": [
      "Collecting Cats\n",
      "Collecting Prix\n",
      "Collecting Desc\n",
      "Writing...\n",
      "Next OBJ\n"
     ]
    },
    {
     "name": "stderr",
     "output_type": "stream",
     "text": [
      "/var/folders/db/q45d2_5d0c52zkvrdw9tp0xm0000gn/T/ipykernel_5737/1366429987.py:8: DeprecationWarning: find_element_by_* commands are deprecated. Please use find_element() instead\n",
      "  tmpCategory = driver.find_element_by_class_name(\"breadcrumb\").text\n",
      "/var/folders/db/q45d2_5d0c52zkvrdw9tp0xm0000gn/T/ipykernel_5737/1366429987.py:14: DeprecationWarning: find_element_by_* commands are deprecated. Please use find_element() instead\n",
      "  regPrice = driver.find_element_by_class_name(\"disc-price\").text\n",
      "/var/folders/db/q45d2_5d0c52zkvrdw9tp0xm0000gn/T/ipykernel_5737/1366429987.py:19: DeprecationWarning: find_element_by_* commands are deprecated. Please use find_element() instead\n",
      "  tmppromoPrice = driver.find_element_by_class_name(\"price-value\").text\n",
      "/var/folders/db/q45d2_5d0c52zkvrdw9tp0xm0000gn/T/ipykernel_5737/1366429987.py:23: DeprecationWarning: find_element_by_* commands are deprecated. Please use find_element() instead\n",
      "  desc =  driver.find_element_by_class_name('productspec').text\n",
      "/var/folders/db/q45d2_5d0c52zkvrdw9tp0xm0000gn/T/ipykernel_5737/1366429987.py:3: DeprecationWarning: find_element_by_* commands are deprecated. Please use find_element() instead\n",
      "  boxitem = driver.find_element_by_xpath(\"//div[@class='box-item clearfix']\")\n",
      "/Users/gayuhkautaman/miniforge3/envs/dataMining/lib/python3.10/site-packages/selenium/webdriver/remote/webelement.py:464: UserWarning: find_elements_by_* commands are deprecated. Please use find_elements() instead\n",
      "  warnings.warn(\"find_elements_by_* commands are deprecated. Please use find_elements() instead\")\n",
      "/Users/gayuhkautaman/miniforge3/envs/dataMining/lib/python3.10/site-packages/selenium/webdriver/remote/webelement.py:446: UserWarning: find_element_by_* commands are deprecated. Please use find_element() instead\n",
      "  warnings.warn(\"find_element_by_* commands are deprecated. Please use find_element() instead\")\n"
     ]
    },
    {
     "name": "stdout",
     "output_type": "stream",
     "text": [
      "Collecting Cats\n",
      "Collecting Prix\n",
      "NO DATA\n",
      "Collecting Desc\n",
      "Writing...\n",
      "Next OBJ\n"
     ]
    },
    {
     "name": "stderr",
     "output_type": "stream",
     "text": [
      "/var/folders/db/q45d2_5d0c52zkvrdw9tp0xm0000gn/T/ipykernel_5737/1366429987.py:8: DeprecationWarning: find_element_by_* commands are deprecated. Please use find_element() instead\n",
      "  tmpCategory = driver.find_element_by_class_name(\"breadcrumb\").text\n",
      "/var/folders/db/q45d2_5d0c52zkvrdw9tp0xm0000gn/T/ipykernel_5737/1366429987.py:14: DeprecationWarning: find_element_by_* commands are deprecated. Please use find_element() instead\n",
      "  regPrice = driver.find_element_by_class_name(\"disc-price\").text\n",
      "/var/folders/db/q45d2_5d0c52zkvrdw9tp0xm0000gn/T/ipykernel_5737/1366429987.py:19: DeprecationWarning: find_element_by_* commands are deprecated. Please use find_element() instead\n",
      "  tmppromoPrice = driver.find_element_by_class_name(\"price-value\").text\n",
      "/var/folders/db/q45d2_5d0c52zkvrdw9tp0xm0000gn/T/ipykernel_5737/1366429987.py:23: DeprecationWarning: find_element_by_* commands are deprecated. Please use find_element() instead\n",
      "  desc =  driver.find_element_by_class_name('productspec').text\n",
      "/var/folders/db/q45d2_5d0c52zkvrdw9tp0xm0000gn/T/ipykernel_5737/1366429987.py:3: DeprecationWarning: find_element_by_* commands are deprecated. Please use find_element() instead\n",
      "  boxitem = driver.find_element_by_xpath(\"//div[@class='box-item clearfix']\")\n",
      "/Users/gayuhkautaman/miniforge3/envs/dataMining/lib/python3.10/site-packages/selenium/webdriver/remote/webelement.py:464: UserWarning: find_elements_by_* commands are deprecated. Please use find_elements() instead\n",
      "  warnings.warn(\"find_elements_by_* commands are deprecated. Please use find_elements() instead\")\n",
      "/Users/gayuhkautaman/miniforge3/envs/dataMining/lib/python3.10/site-packages/selenium/webdriver/remote/webelement.py:446: UserWarning: find_element_by_* commands are deprecated. Please use find_element() instead\n",
      "  warnings.warn(\"find_element_by_* commands are deprecated. Please use find_element() instead\")\n"
     ]
    },
    {
     "name": "stdout",
     "output_type": "stream",
     "text": [
      "Collecting Cats\n",
      "Collecting Prix\n",
      "Collecting Desc\n",
      "Writing...\n",
      "Next OBJ\n"
     ]
    },
    {
     "name": "stderr",
     "output_type": "stream",
     "text": [
      "/var/folders/db/q45d2_5d0c52zkvrdw9tp0xm0000gn/T/ipykernel_5737/1366429987.py:8: DeprecationWarning: find_element_by_* commands are deprecated. Please use find_element() instead\n",
      "  tmpCategory = driver.find_element_by_class_name(\"breadcrumb\").text\n",
      "/var/folders/db/q45d2_5d0c52zkvrdw9tp0xm0000gn/T/ipykernel_5737/1366429987.py:14: DeprecationWarning: find_element_by_* commands are deprecated. Please use find_element() instead\n",
      "  regPrice = driver.find_element_by_class_name(\"disc-price\").text\n",
      "/var/folders/db/q45d2_5d0c52zkvrdw9tp0xm0000gn/T/ipykernel_5737/1366429987.py:19: DeprecationWarning: find_element_by_* commands are deprecated. Please use find_element() instead\n",
      "  tmppromoPrice = driver.find_element_by_class_name(\"price-value\").text\n",
      "/var/folders/db/q45d2_5d0c52zkvrdw9tp0xm0000gn/T/ipykernel_5737/1366429987.py:23: DeprecationWarning: find_element_by_* commands are deprecated. Please use find_element() instead\n",
      "  desc =  driver.find_element_by_class_name('productspec').text\n",
      "/var/folders/db/q45d2_5d0c52zkvrdw9tp0xm0000gn/T/ipykernel_5737/1366429987.py:3: DeprecationWarning: find_element_by_* commands are deprecated. Please use find_element() instead\n",
      "  boxitem = driver.find_element_by_xpath(\"//div[@class='box-item clearfix']\")\n",
      "/Users/gayuhkautaman/miniforge3/envs/dataMining/lib/python3.10/site-packages/selenium/webdriver/remote/webelement.py:464: UserWarning: find_elements_by_* commands are deprecated. Please use find_elements() instead\n",
      "  warnings.warn(\"find_elements_by_* commands are deprecated. Please use find_elements() instead\")\n",
      "/Users/gayuhkautaman/miniforge3/envs/dataMining/lib/python3.10/site-packages/selenium/webdriver/remote/webelement.py:446: UserWarning: find_element_by_* commands are deprecated. Please use find_element() instead\n",
      "  warnings.warn(\"find_element_by_* commands are deprecated. Please use find_element() instead\")\n"
     ]
    },
    {
     "name": "stdout",
     "output_type": "stream",
     "text": [
      "Collecting Cats\n",
      "Collecting Prix\n",
      "Collecting Desc\n",
      "Writing...\n",
      "Next OBJ\n"
     ]
    },
    {
     "name": "stderr",
     "output_type": "stream",
     "text": [
      "/var/folders/db/q45d2_5d0c52zkvrdw9tp0xm0000gn/T/ipykernel_5737/1366429987.py:8: DeprecationWarning: find_element_by_* commands are deprecated. Please use find_element() instead\n",
      "  tmpCategory = driver.find_element_by_class_name(\"breadcrumb\").text\n",
      "/var/folders/db/q45d2_5d0c52zkvrdw9tp0xm0000gn/T/ipykernel_5737/1366429987.py:14: DeprecationWarning: find_element_by_* commands are deprecated. Please use find_element() instead\n",
      "  regPrice = driver.find_element_by_class_name(\"disc-price\").text\n",
      "/var/folders/db/q45d2_5d0c52zkvrdw9tp0xm0000gn/T/ipykernel_5737/1366429987.py:19: DeprecationWarning: find_element_by_* commands are deprecated. Please use find_element() instead\n",
      "  tmppromoPrice = driver.find_element_by_class_name(\"price-value\").text\n",
      "/var/folders/db/q45d2_5d0c52zkvrdw9tp0xm0000gn/T/ipykernel_5737/1366429987.py:23: DeprecationWarning: find_element_by_* commands are deprecated. Please use find_element() instead\n",
      "  desc =  driver.find_element_by_class_name('productspec').text\n",
      "/var/folders/db/q45d2_5d0c52zkvrdw9tp0xm0000gn/T/ipykernel_5737/1366429987.py:3: DeprecationWarning: find_element_by_* commands are deprecated. Please use find_element() instead\n",
      "  boxitem = driver.find_element_by_xpath(\"//div[@class='box-item clearfix']\")\n",
      "/Users/gayuhkautaman/miniforge3/envs/dataMining/lib/python3.10/site-packages/selenium/webdriver/remote/webelement.py:464: UserWarning: find_elements_by_* commands are deprecated. Please use find_elements() instead\n",
      "  warnings.warn(\"find_elements_by_* commands are deprecated. Please use find_elements() instead\")\n",
      "/Users/gayuhkautaman/miniforge3/envs/dataMining/lib/python3.10/site-packages/selenium/webdriver/remote/webelement.py:446: UserWarning: find_element_by_* commands are deprecated. Please use find_element() instead\n",
      "  warnings.warn(\"find_element_by_* commands are deprecated. Please use find_element() instead\")\n"
     ]
    },
    {
     "name": "stdout",
     "output_type": "stream",
     "text": [
      "Collecting Cats\n",
      "Collecting Prix\n",
      "Collecting Desc\n",
      "Writing...\n",
      "Next OBJ\n"
     ]
    },
    {
     "name": "stderr",
     "output_type": "stream",
     "text": [
      "/var/folders/db/q45d2_5d0c52zkvrdw9tp0xm0000gn/T/ipykernel_5737/1366429987.py:8: DeprecationWarning: find_element_by_* commands are deprecated. Please use find_element() instead\n",
      "  tmpCategory = driver.find_element_by_class_name(\"breadcrumb\").text\n",
      "/var/folders/db/q45d2_5d0c52zkvrdw9tp0xm0000gn/T/ipykernel_5737/1366429987.py:14: DeprecationWarning: find_element_by_* commands are deprecated. Please use find_element() instead\n",
      "  regPrice = driver.find_element_by_class_name(\"disc-price\").text\n",
      "/var/folders/db/q45d2_5d0c52zkvrdw9tp0xm0000gn/T/ipykernel_5737/1366429987.py:19: DeprecationWarning: find_element_by_* commands are deprecated. Please use find_element() instead\n",
      "  tmppromoPrice = driver.find_element_by_class_name(\"price-value\").text\n",
      "/var/folders/db/q45d2_5d0c52zkvrdw9tp0xm0000gn/T/ipykernel_5737/1366429987.py:23: DeprecationWarning: find_element_by_* commands are deprecated. Please use find_element() instead\n",
      "  desc =  driver.find_element_by_class_name('productspec').text\n",
      "/var/folders/db/q45d2_5d0c52zkvrdw9tp0xm0000gn/T/ipykernel_5737/1366429987.py:3: DeprecationWarning: find_element_by_* commands are deprecated. Please use find_element() instead\n",
      "  boxitem = driver.find_element_by_xpath(\"//div[@class='box-item clearfix']\")\n",
      "/Users/gayuhkautaman/miniforge3/envs/dataMining/lib/python3.10/site-packages/selenium/webdriver/remote/webelement.py:464: UserWarning: find_elements_by_* commands are deprecated. Please use find_elements() instead\n",
      "  warnings.warn(\"find_elements_by_* commands are deprecated. Please use find_elements() instead\")\n",
      "/Users/gayuhkautaman/miniforge3/envs/dataMining/lib/python3.10/site-packages/selenium/webdriver/remote/webelement.py:446: UserWarning: find_element_by_* commands are deprecated. Please use find_element() instead\n",
      "  warnings.warn(\"find_element_by_* commands are deprecated. Please use find_element() instead\")\n"
     ]
    },
    {
     "name": "stdout",
     "output_type": "stream",
     "text": [
      "Collecting Cats\n",
      "Collecting Prix\n",
      "Collecting Desc\n",
      "Writing...\n",
      "Next OBJ\n"
     ]
    },
    {
     "name": "stderr",
     "output_type": "stream",
     "text": [
      "/var/folders/db/q45d2_5d0c52zkvrdw9tp0xm0000gn/T/ipykernel_5737/1366429987.py:8: DeprecationWarning: find_element_by_* commands are deprecated. Please use find_element() instead\n",
      "  tmpCategory = driver.find_element_by_class_name(\"breadcrumb\").text\n",
      "/var/folders/db/q45d2_5d0c52zkvrdw9tp0xm0000gn/T/ipykernel_5737/1366429987.py:14: DeprecationWarning: find_element_by_* commands are deprecated. Please use find_element() instead\n",
      "  regPrice = driver.find_element_by_class_name(\"disc-price\").text\n",
      "/var/folders/db/q45d2_5d0c52zkvrdw9tp0xm0000gn/T/ipykernel_5737/1366429987.py:19: DeprecationWarning: find_element_by_* commands are deprecated. Please use find_element() instead\n",
      "  tmppromoPrice = driver.find_element_by_class_name(\"price-value\").text\n",
      "/var/folders/db/q45d2_5d0c52zkvrdw9tp0xm0000gn/T/ipykernel_5737/1366429987.py:23: DeprecationWarning: find_element_by_* commands are deprecated. Please use find_element() instead\n",
      "  desc =  driver.find_element_by_class_name('productspec').text\n",
      "/var/folders/db/q45d2_5d0c52zkvrdw9tp0xm0000gn/T/ipykernel_5737/1366429987.py:3: DeprecationWarning: find_element_by_* commands are deprecated. Please use find_element() instead\n",
      "  boxitem = driver.find_element_by_xpath(\"//div[@class='box-item clearfix']\")\n",
      "/Users/gayuhkautaman/miniforge3/envs/dataMining/lib/python3.10/site-packages/selenium/webdriver/remote/webelement.py:464: UserWarning: find_elements_by_* commands are deprecated. Please use find_elements() instead\n",
      "  warnings.warn(\"find_elements_by_* commands are deprecated. Please use find_elements() instead\")\n",
      "/Users/gayuhkautaman/miniforge3/envs/dataMining/lib/python3.10/site-packages/selenium/webdriver/remote/webelement.py:446: UserWarning: find_element_by_* commands are deprecated. Please use find_element() instead\n",
      "  warnings.warn(\"find_element_by_* commands are deprecated. Please use find_element() instead\")\n"
     ]
    },
    {
     "name": "stdout",
     "output_type": "stream",
     "text": [
      "Collecting Cats\n",
      "Collecting Prix\n",
      "Collecting Desc\n",
      "Writing...\n",
      "Next OBJ\n"
     ]
    },
    {
     "name": "stderr",
     "output_type": "stream",
     "text": [
      "/var/folders/db/q45d2_5d0c52zkvrdw9tp0xm0000gn/T/ipykernel_5737/1366429987.py:8: DeprecationWarning: find_element_by_* commands are deprecated. Please use find_element() instead\n",
      "  tmpCategory = driver.find_element_by_class_name(\"breadcrumb\").text\n",
      "/var/folders/db/q45d2_5d0c52zkvrdw9tp0xm0000gn/T/ipykernel_5737/1366429987.py:14: DeprecationWarning: find_element_by_* commands are deprecated. Please use find_element() instead\n",
      "  regPrice = driver.find_element_by_class_name(\"disc-price\").text\n",
      "/var/folders/db/q45d2_5d0c52zkvrdw9tp0xm0000gn/T/ipykernel_5737/1366429987.py:19: DeprecationWarning: find_element_by_* commands are deprecated. Please use find_element() instead\n",
      "  tmppromoPrice = driver.find_element_by_class_name(\"price-value\").text\n",
      "/var/folders/db/q45d2_5d0c52zkvrdw9tp0xm0000gn/T/ipykernel_5737/1366429987.py:23: DeprecationWarning: find_element_by_* commands are deprecated. Please use find_element() instead\n",
      "  desc =  driver.find_element_by_class_name('productspec').text\n",
      "/var/folders/db/q45d2_5d0c52zkvrdw9tp0xm0000gn/T/ipykernel_5737/1366429987.py:3: DeprecationWarning: find_element_by_* commands are deprecated. Please use find_element() instead\n",
      "  boxitem = driver.find_element_by_xpath(\"//div[@class='box-item clearfix']\")\n",
      "/Users/gayuhkautaman/miniforge3/envs/dataMining/lib/python3.10/site-packages/selenium/webdriver/remote/webelement.py:464: UserWarning: find_elements_by_* commands are deprecated. Please use find_elements() instead\n",
      "  warnings.warn(\"find_elements_by_* commands are deprecated. Please use find_elements() instead\")\n",
      "/Users/gayuhkautaman/miniforge3/envs/dataMining/lib/python3.10/site-packages/selenium/webdriver/remote/webelement.py:446: UserWarning: find_element_by_* commands are deprecated. Please use find_element() instead\n",
      "  warnings.warn(\"find_element_by_* commands are deprecated. Please use find_element() instead\")\n"
     ]
    },
    {
     "name": "stdout",
     "output_type": "stream",
     "text": [
      "Collecting Cats\n",
      "Collecting Prix\n",
      "Collecting Desc\n",
      "Writing...\n",
      "Next OBJ\n"
     ]
    },
    {
     "name": "stderr",
     "output_type": "stream",
     "text": [
      "/var/folders/db/q45d2_5d0c52zkvrdw9tp0xm0000gn/T/ipykernel_5737/1366429987.py:8: DeprecationWarning: find_element_by_* commands are deprecated. Please use find_element() instead\n",
      "  tmpCategory = driver.find_element_by_class_name(\"breadcrumb\").text\n",
      "/var/folders/db/q45d2_5d0c52zkvrdw9tp0xm0000gn/T/ipykernel_5737/1366429987.py:14: DeprecationWarning: find_element_by_* commands are deprecated. Please use find_element() instead\n",
      "  regPrice = driver.find_element_by_class_name(\"disc-price\").text\n",
      "/var/folders/db/q45d2_5d0c52zkvrdw9tp0xm0000gn/T/ipykernel_5737/1366429987.py:19: DeprecationWarning: find_element_by_* commands are deprecated. Please use find_element() instead\n",
      "  tmppromoPrice = driver.find_element_by_class_name(\"price-value\").text\n",
      "/var/folders/db/q45d2_5d0c52zkvrdw9tp0xm0000gn/T/ipykernel_5737/1366429987.py:23: DeprecationWarning: find_element_by_* commands are deprecated. Please use find_element() instead\n",
      "  desc =  driver.find_element_by_class_name('productspec').text\n",
      "/var/folders/db/q45d2_5d0c52zkvrdw9tp0xm0000gn/T/ipykernel_5737/1366429987.py:3: DeprecationWarning: find_element_by_* commands are deprecated. Please use find_element() instead\n",
      "  boxitem = driver.find_element_by_xpath(\"//div[@class='box-item clearfix']\")\n",
      "/Users/gayuhkautaman/miniforge3/envs/dataMining/lib/python3.10/site-packages/selenium/webdriver/remote/webelement.py:464: UserWarning: find_elements_by_* commands are deprecated. Please use find_elements() instead\n",
      "  warnings.warn(\"find_elements_by_* commands are deprecated. Please use find_elements() instead\")\n",
      "/Users/gayuhkautaman/miniforge3/envs/dataMining/lib/python3.10/site-packages/selenium/webdriver/remote/webelement.py:446: UserWarning: find_element_by_* commands are deprecated. Please use find_element() instead\n",
      "  warnings.warn(\"find_element_by_* commands are deprecated. Please use find_element() instead\")\n"
     ]
    },
    {
     "name": "stdout",
     "output_type": "stream",
     "text": [
      "Collecting Cats\n",
      "Collecting Prix\n",
      "Collecting Desc\n",
      "Writing...\n",
      "Next OBJ\n"
     ]
    },
    {
     "name": "stderr",
     "output_type": "stream",
     "text": [
      "/var/folders/db/q45d2_5d0c52zkvrdw9tp0xm0000gn/T/ipykernel_5737/1366429987.py:8: DeprecationWarning: find_element_by_* commands are deprecated. Please use find_element() instead\n",
      "  tmpCategory = driver.find_element_by_class_name(\"breadcrumb\").text\n",
      "/var/folders/db/q45d2_5d0c52zkvrdw9tp0xm0000gn/T/ipykernel_5737/1366429987.py:14: DeprecationWarning: find_element_by_* commands are deprecated. Please use find_element() instead\n",
      "  regPrice = driver.find_element_by_class_name(\"disc-price\").text\n",
      "/var/folders/db/q45d2_5d0c52zkvrdw9tp0xm0000gn/T/ipykernel_5737/1366429987.py:19: DeprecationWarning: find_element_by_* commands are deprecated. Please use find_element() instead\n",
      "  tmppromoPrice = driver.find_element_by_class_name(\"price-value\").text\n",
      "/var/folders/db/q45d2_5d0c52zkvrdw9tp0xm0000gn/T/ipykernel_5737/1366429987.py:23: DeprecationWarning: find_element_by_* commands are deprecated. Please use find_element() instead\n",
      "  desc =  driver.find_element_by_class_name('productspec').text\n",
      "/var/folders/db/q45d2_5d0c52zkvrdw9tp0xm0000gn/T/ipykernel_5737/1366429987.py:3: DeprecationWarning: find_element_by_* commands are deprecated. Please use find_element() instead\n",
      "  boxitem = driver.find_element_by_xpath(\"//div[@class='box-item clearfix']\")\n",
      "/Users/gayuhkautaman/miniforge3/envs/dataMining/lib/python3.10/site-packages/selenium/webdriver/remote/webelement.py:464: UserWarning: find_elements_by_* commands are deprecated. Please use find_elements() instead\n",
      "  warnings.warn(\"find_elements_by_* commands are deprecated. Please use find_elements() instead\")\n",
      "/Users/gayuhkautaman/miniforge3/envs/dataMining/lib/python3.10/site-packages/selenium/webdriver/remote/webelement.py:446: UserWarning: find_element_by_* commands are deprecated. Please use find_element() instead\n",
      "  warnings.warn(\"find_element_by_* commands are deprecated. Please use find_element() instead\")\n"
     ]
    },
    {
     "name": "stdout",
     "output_type": "stream",
     "text": [
      "Collecting Cats\n",
      "Collecting Prix\n",
      "Collecting Desc\n",
      "Writing...\n",
      "Next OBJ\n"
     ]
    },
    {
     "name": "stderr",
     "output_type": "stream",
     "text": [
      "/var/folders/db/q45d2_5d0c52zkvrdw9tp0xm0000gn/T/ipykernel_5737/1366429987.py:8: DeprecationWarning: find_element_by_* commands are deprecated. Please use find_element() instead\n",
      "  tmpCategory = driver.find_element_by_class_name(\"breadcrumb\").text\n",
      "/var/folders/db/q45d2_5d0c52zkvrdw9tp0xm0000gn/T/ipykernel_5737/1366429987.py:14: DeprecationWarning: find_element_by_* commands are deprecated. Please use find_element() instead\n",
      "  regPrice = driver.find_element_by_class_name(\"disc-price\").text\n",
      "/var/folders/db/q45d2_5d0c52zkvrdw9tp0xm0000gn/T/ipykernel_5737/1366429987.py:19: DeprecationWarning: find_element_by_* commands are deprecated. Please use find_element() instead\n",
      "  tmppromoPrice = driver.find_element_by_class_name(\"price-value\").text\n",
      "/var/folders/db/q45d2_5d0c52zkvrdw9tp0xm0000gn/T/ipykernel_5737/1366429987.py:23: DeprecationWarning: find_element_by_* commands are deprecated. Please use find_element() instead\n",
      "  desc =  driver.find_element_by_class_name('productspec').text\n",
      "/var/folders/db/q45d2_5d0c52zkvrdw9tp0xm0000gn/T/ipykernel_5737/1366429987.py:3: DeprecationWarning: find_element_by_* commands are deprecated. Please use find_element() instead\n",
      "  boxitem = driver.find_element_by_xpath(\"//div[@class='box-item clearfix']\")\n",
      "/Users/gayuhkautaman/miniforge3/envs/dataMining/lib/python3.10/site-packages/selenium/webdriver/remote/webelement.py:464: UserWarning: find_elements_by_* commands are deprecated. Please use find_elements() instead\n",
      "  warnings.warn(\"find_elements_by_* commands are deprecated. Please use find_elements() instead\")\n",
      "/Users/gayuhkautaman/miniforge3/envs/dataMining/lib/python3.10/site-packages/selenium/webdriver/remote/webelement.py:446: UserWarning: find_element_by_* commands are deprecated. Please use find_element() instead\n",
      "  warnings.warn(\"find_element_by_* commands are deprecated. Please use find_element() instead\")\n"
     ]
    },
    {
     "name": "stdout",
     "output_type": "stream",
     "text": [
      "Collecting Cats\n",
      "Collecting Prix\n",
      "Collecting Desc\n",
      "Writing...\n",
      "Next OBJ\n"
     ]
    },
    {
     "name": "stderr",
     "output_type": "stream",
     "text": [
      "/var/folders/db/q45d2_5d0c52zkvrdw9tp0xm0000gn/T/ipykernel_5737/1366429987.py:8: DeprecationWarning: find_element_by_* commands are deprecated. Please use find_element() instead\n",
      "  tmpCategory = driver.find_element_by_class_name(\"breadcrumb\").text\n",
      "/var/folders/db/q45d2_5d0c52zkvrdw9tp0xm0000gn/T/ipykernel_5737/1366429987.py:14: DeprecationWarning: find_element_by_* commands are deprecated. Please use find_element() instead\n",
      "  regPrice = driver.find_element_by_class_name(\"disc-price\").text\n",
      "/var/folders/db/q45d2_5d0c52zkvrdw9tp0xm0000gn/T/ipykernel_5737/1366429987.py:19: DeprecationWarning: find_element_by_* commands are deprecated. Please use find_element() instead\n",
      "  tmppromoPrice = driver.find_element_by_class_name(\"price-value\").text\n",
      "/var/folders/db/q45d2_5d0c52zkvrdw9tp0xm0000gn/T/ipykernel_5737/1366429987.py:23: DeprecationWarning: find_element_by_* commands are deprecated. Please use find_element() instead\n",
      "  desc =  driver.find_element_by_class_name('productspec').text\n",
      "/var/folders/db/q45d2_5d0c52zkvrdw9tp0xm0000gn/T/ipykernel_5737/1366429987.py:3: DeprecationWarning: find_element_by_* commands are deprecated. Please use find_element() instead\n",
      "  boxitem = driver.find_element_by_xpath(\"//div[@class='box-item clearfix']\")\n",
      "/Users/gayuhkautaman/miniforge3/envs/dataMining/lib/python3.10/site-packages/selenium/webdriver/remote/webelement.py:464: UserWarning: find_elements_by_* commands are deprecated. Please use find_elements() instead\n",
      "  warnings.warn(\"find_elements_by_* commands are deprecated. Please use find_elements() instead\")\n",
      "/Users/gayuhkautaman/miniforge3/envs/dataMining/lib/python3.10/site-packages/selenium/webdriver/remote/webelement.py:446: UserWarning: find_element_by_* commands are deprecated. Please use find_element() instead\n",
      "  warnings.warn(\"find_element_by_* commands are deprecated. Please use find_element() instead\")\n"
     ]
    },
    {
     "name": "stdout",
     "output_type": "stream",
     "text": [
      "Collecting Cats\n",
      "Collecting Prix\n",
      "Collecting Desc\n",
      "Writing...\n",
      "Next OBJ\n"
     ]
    },
    {
     "name": "stderr",
     "output_type": "stream",
     "text": [
      "/var/folders/db/q45d2_5d0c52zkvrdw9tp0xm0000gn/T/ipykernel_5737/1366429987.py:8: DeprecationWarning: find_element_by_* commands are deprecated. Please use find_element() instead\n",
      "  tmpCategory = driver.find_element_by_class_name(\"breadcrumb\").text\n",
      "/var/folders/db/q45d2_5d0c52zkvrdw9tp0xm0000gn/T/ipykernel_5737/1366429987.py:14: DeprecationWarning: find_element_by_* commands are deprecated. Please use find_element() instead\n",
      "  regPrice = driver.find_element_by_class_name(\"disc-price\").text\n",
      "/var/folders/db/q45d2_5d0c52zkvrdw9tp0xm0000gn/T/ipykernel_5737/1366429987.py:19: DeprecationWarning: find_element_by_* commands are deprecated. Please use find_element() instead\n",
      "  tmppromoPrice = driver.find_element_by_class_name(\"price-value\").text\n",
      "/var/folders/db/q45d2_5d0c52zkvrdw9tp0xm0000gn/T/ipykernel_5737/1366429987.py:23: DeprecationWarning: find_element_by_* commands are deprecated. Please use find_element() instead\n",
      "  desc =  driver.find_element_by_class_name('productspec').text\n",
      "/var/folders/db/q45d2_5d0c52zkvrdw9tp0xm0000gn/T/ipykernel_5737/1366429987.py:3: DeprecationWarning: find_element_by_* commands are deprecated. Please use find_element() instead\n",
      "  boxitem = driver.find_element_by_xpath(\"//div[@class='box-item clearfix']\")\n",
      "/Users/gayuhkautaman/miniforge3/envs/dataMining/lib/python3.10/site-packages/selenium/webdriver/remote/webelement.py:464: UserWarning: find_elements_by_* commands are deprecated. Please use find_elements() instead\n",
      "  warnings.warn(\"find_elements_by_* commands are deprecated. Please use find_elements() instead\")\n",
      "/Users/gayuhkautaman/miniforge3/envs/dataMining/lib/python3.10/site-packages/selenium/webdriver/remote/webelement.py:446: UserWarning: find_element_by_* commands are deprecated. Please use find_element() instead\n",
      "  warnings.warn(\"find_element_by_* commands are deprecated. Please use find_element() instead\")\n"
     ]
    },
    {
     "name": "stdout",
     "output_type": "stream",
     "text": [
      "Collecting Cats\n",
      "Collecting Prix\n",
      "Collecting Desc\n",
      "Writing...\n",
      "Next OBJ\n"
     ]
    },
    {
     "name": "stderr",
     "output_type": "stream",
     "text": [
      "/var/folders/db/q45d2_5d0c52zkvrdw9tp0xm0000gn/T/ipykernel_5737/1366429987.py:8: DeprecationWarning: find_element_by_* commands are deprecated. Please use find_element() instead\n",
      "  tmpCategory = driver.find_element_by_class_name(\"breadcrumb\").text\n",
      "/var/folders/db/q45d2_5d0c52zkvrdw9tp0xm0000gn/T/ipykernel_5737/1366429987.py:14: DeprecationWarning: find_element_by_* commands are deprecated. Please use find_element() instead\n",
      "  regPrice = driver.find_element_by_class_name(\"disc-price\").text\n",
      "/var/folders/db/q45d2_5d0c52zkvrdw9tp0xm0000gn/T/ipykernel_5737/1366429987.py:19: DeprecationWarning: find_element_by_* commands are deprecated. Please use find_element() instead\n",
      "  tmppromoPrice = driver.find_element_by_class_name(\"price-value\").text\n",
      "/var/folders/db/q45d2_5d0c52zkvrdw9tp0xm0000gn/T/ipykernel_5737/1366429987.py:23: DeprecationWarning: find_element_by_* commands are deprecated. Please use find_element() instead\n",
      "  desc =  driver.find_element_by_class_name('productspec').text\n",
      "/var/folders/db/q45d2_5d0c52zkvrdw9tp0xm0000gn/T/ipykernel_5737/1366429987.py:3: DeprecationWarning: find_element_by_* commands are deprecated. Please use find_element() instead\n",
      "  boxitem = driver.find_element_by_xpath(\"//div[@class='box-item clearfix']\")\n",
      "/Users/gayuhkautaman/miniforge3/envs/dataMining/lib/python3.10/site-packages/selenium/webdriver/remote/webelement.py:464: UserWarning: find_elements_by_* commands are deprecated. Please use find_elements() instead\n",
      "  warnings.warn(\"find_elements_by_* commands are deprecated. Please use find_elements() instead\")\n",
      "/Users/gayuhkautaman/miniforge3/envs/dataMining/lib/python3.10/site-packages/selenium/webdriver/remote/webelement.py:446: UserWarning: find_element_by_* commands are deprecated. Please use find_element() instead\n",
      "  warnings.warn(\"find_element_by_* commands are deprecated. Please use find_element() instead\")\n"
     ]
    },
    {
     "name": "stdout",
     "output_type": "stream",
     "text": [
      "Collecting Cats\n",
      "Collecting Prix\n",
      "Collecting Desc\n",
      "Writing...\n",
      "Next OBJ\n"
     ]
    },
    {
     "name": "stderr",
     "output_type": "stream",
     "text": [
      "/var/folders/db/q45d2_5d0c52zkvrdw9tp0xm0000gn/T/ipykernel_5737/1366429987.py:8: DeprecationWarning: find_element_by_* commands are deprecated. Please use find_element() instead\n",
      "  tmpCategory = driver.find_element_by_class_name(\"breadcrumb\").text\n",
      "/var/folders/db/q45d2_5d0c52zkvrdw9tp0xm0000gn/T/ipykernel_5737/1366429987.py:14: DeprecationWarning: find_element_by_* commands are deprecated. Please use find_element() instead\n",
      "  regPrice = driver.find_element_by_class_name(\"disc-price\").text\n",
      "/var/folders/db/q45d2_5d0c52zkvrdw9tp0xm0000gn/T/ipykernel_5737/1366429987.py:19: DeprecationWarning: find_element_by_* commands are deprecated. Please use find_element() instead\n",
      "  tmppromoPrice = driver.find_element_by_class_name(\"price-value\").text\n",
      "/var/folders/db/q45d2_5d0c52zkvrdw9tp0xm0000gn/T/ipykernel_5737/1366429987.py:23: DeprecationWarning: find_element_by_* commands are deprecated. Please use find_element() instead\n",
      "  desc =  driver.find_element_by_class_name('productspec').text\n",
      "/var/folders/db/q45d2_5d0c52zkvrdw9tp0xm0000gn/T/ipykernel_5737/1366429987.py:3: DeprecationWarning: find_element_by_* commands are deprecated. Please use find_element() instead\n",
      "  boxitem = driver.find_element_by_xpath(\"//div[@class='box-item clearfix']\")\n",
      "/Users/gayuhkautaman/miniforge3/envs/dataMining/lib/python3.10/site-packages/selenium/webdriver/remote/webelement.py:464: UserWarning: find_elements_by_* commands are deprecated. Please use find_elements() instead\n",
      "  warnings.warn(\"find_elements_by_* commands are deprecated. Please use find_elements() instead\")\n",
      "/Users/gayuhkautaman/miniforge3/envs/dataMining/lib/python3.10/site-packages/selenium/webdriver/remote/webelement.py:446: UserWarning: find_element_by_* commands are deprecated. Please use find_element() instead\n",
      "  warnings.warn(\"find_element_by_* commands are deprecated. Please use find_element() instead\")\n"
     ]
    },
    {
     "name": "stdout",
     "output_type": "stream",
     "text": [
      "Collecting Cats\n",
      "Collecting Prix\n",
      "Collecting Desc\n",
      "Writing...\n",
      "Next OBJ\n"
     ]
    },
    {
     "name": "stderr",
     "output_type": "stream",
     "text": [
      "/var/folders/db/q45d2_5d0c52zkvrdw9tp0xm0000gn/T/ipykernel_5737/1366429987.py:8: DeprecationWarning: find_element_by_* commands are deprecated. Please use find_element() instead\n",
      "  tmpCategory = driver.find_element_by_class_name(\"breadcrumb\").text\n",
      "/var/folders/db/q45d2_5d0c52zkvrdw9tp0xm0000gn/T/ipykernel_5737/1366429987.py:14: DeprecationWarning: find_element_by_* commands are deprecated. Please use find_element() instead\n",
      "  regPrice = driver.find_element_by_class_name(\"disc-price\").text\n",
      "/var/folders/db/q45d2_5d0c52zkvrdw9tp0xm0000gn/T/ipykernel_5737/1366429987.py:19: DeprecationWarning: find_element_by_* commands are deprecated. Please use find_element() instead\n",
      "  tmppromoPrice = driver.find_element_by_class_name(\"price-value\").text\n",
      "/var/folders/db/q45d2_5d0c52zkvrdw9tp0xm0000gn/T/ipykernel_5737/1366429987.py:23: DeprecationWarning: find_element_by_* commands are deprecated. Please use find_element() instead\n",
      "  desc =  driver.find_element_by_class_name('productspec').text\n",
      "/var/folders/db/q45d2_5d0c52zkvrdw9tp0xm0000gn/T/ipykernel_5737/1366429987.py:3: DeprecationWarning: find_element_by_* commands are deprecated. Please use find_element() instead\n",
      "  boxitem = driver.find_element_by_xpath(\"//div[@class='box-item clearfix']\")\n",
      "/Users/gayuhkautaman/miniforge3/envs/dataMining/lib/python3.10/site-packages/selenium/webdriver/remote/webelement.py:464: UserWarning: find_elements_by_* commands are deprecated. Please use find_elements() instead\n",
      "  warnings.warn(\"find_elements_by_* commands are deprecated. Please use find_elements() instead\")\n",
      "/Users/gayuhkautaman/miniforge3/envs/dataMining/lib/python3.10/site-packages/selenium/webdriver/remote/webelement.py:446: UserWarning: find_element_by_* commands are deprecated. Please use find_element() instead\n",
      "  warnings.warn(\"find_element_by_* commands are deprecated. Please use find_element() instead\")\n"
     ]
    },
    {
     "name": "stdout",
     "output_type": "stream",
     "text": [
      "Collecting Cats\n",
      "Collecting Prix\n",
      "NO DATA\n",
      "Collecting Desc\n",
      "Writing...\n",
      "Next OBJ\n"
     ]
    },
    {
     "name": "stderr",
     "output_type": "stream",
     "text": [
      "/var/folders/db/q45d2_5d0c52zkvrdw9tp0xm0000gn/T/ipykernel_5737/1366429987.py:8: DeprecationWarning: find_element_by_* commands are deprecated. Please use find_element() instead\n",
      "  tmpCategory = driver.find_element_by_class_name(\"breadcrumb\").text\n",
      "/var/folders/db/q45d2_5d0c52zkvrdw9tp0xm0000gn/T/ipykernel_5737/1366429987.py:14: DeprecationWarning: find_element_by_* commands are deprecated. Please use find_element() instead\n",
      "  regPrice = driver.find_element_by_class_name(\"disc-price\").text\n",
      "/var/folders/db/q45d2_5d0c52zkvrdw9tp0xm0000gn/T/ipykernel_5737/1366429987.py:19: DeprecationWarning: find_element_by_* commands are deprecated. Please use find_element() instead\n",
      "  tmppromoPrice = driver.find_element_by_class_name(\"price-value\").text\n",
      "/var/folders/db/q45d2_5d0c52zkvrdw9tp0xm0000gn/T/ipykernel_5737/1366429987.py:23: DeprecationWarning: find_element_by_* commands are deprecated. Please use find_element() instead\n",
      "  desc =  driver.find_element_by_class_name('productspec').text\n",
      "/var/folders/db/q45d2_5d0c52zkvrdw9tp0xm0000gn/T/ipykernel_5737/1366429987.py:3: DeprecationWarning: find_element_by_* commands are deprecated. Please use find_element() instead\n",
      "  boxitem = driver.find_element_by_xpath(\"//div[@class='box-item clearfix']\")\n",
      "/Users/gayuhkautaman/miniforge3/envs/dataMining/lib/python3.10/site-packages/selenium/webdriver/remote/webelement.py:464: UserWarning: find_elements_by_* commands are deprecated. Please use find_elements() instead\n",
      "  warnings.warn(\"find_elements_by_* commands are deprecated. Please use find_elements() instead\")\n",
      "/Users/gayuhkautaman/miniforge3/envs/dataMining/lib/python3.10/site-packages/selenium/webdriver/remote/webelement.py:446: UserWarning: find_element_by_* commands are deprecated. Please use find_element() instead\n",
      "  warnings.warn(\"find_element_by_* commands are deprecated. Please use find_element() instead\")\n"
     ]
    },
    {
     "name": "stdout",
     "output_type": "stream",
     "text": [
      "Collecting Cats\n",
      "Collecting Prix\n",
      "Collecting Desc\n",
      "Writing...\n",
      "Next OBJ\n"
     ]
    },
    {
     "name": "stderr",
     "output_type": "stream",
     "text": [
      "/var/folders/db/q45d2_5d0c52zkvrdw9tp0xm0000gn/T/ipykernel_5737/1366429987.py:8: DeprecationWarning: find_element_by_* commands are deprecated. Please use find_element() instead\n",
      "  tmpCategory = driver.find_element_by_class_name(\"breadcrumb\").text\n",
      "/var/folders/db/q45d2_5d0c52zkvrdw9tp0xm0000gn/T/ipykernel_5737/1366429987.py:14: DeprecationWarning: find_element_by_* commands are deprecated. Please use find_element() instead\n",
      "  regPrice = driver.find_element_by_class_name(\"disc-price\").text\n",
      "/var/folders/db/q45d2_5d0c52zkvrdw9tp0xm0000gn/T/ipykernel_5737/1366429987.py:19: DeprecationWarning: find_element_by_* commands are deprecated. Please use find_element() instead\n",
      "  tmppromoPrice = driver.find_element_by_class_name(\"price-value\").text\n",
      "/var/folders/db/q45d2_5d0c52zkvrdw9tp0xm0000gn/T/ipykernel_5737/1366429987.py:23: DeprecationWarning: find_element_by_* commands are deprecated. Please use find_element() instead\n",
      "  desc =  driver.find_element_by_class_name('productspec').text\n",
      "/var/folders/db/q45d2_5d0c52zkvrdw9tp0xm0000gn/T/ipykernel_5737/1366429987.py:3: DeprecationWarning: find_element_by_* commands are deprecated. Please use find_element() instead\n",
      "  boxitem = driver.find_element_by_xpath(\"//div[@class='box-item clearfix']\")\n",
      "/Users/gayuhkautaman/miniforge3/envs/dataMining/lib/python3.10/site-packages/selenium/webdriver/remote/webelement.py:464: UserWarning: find_elements_by_* commands are deprecated. Please use find_elements() instead\n",
      "  warnings.warn(\"find_elements_by_* commands are deprecated. Please use find_elements() instead\")\n",
      "/Users/gayuhkautaman/miniforge3/envs/dataMining/lib/python3.10/site-packages/selenium/webdriver/remote/webelement.py:446: UserWarning: find_element_by_* commands are deprecated. Please use find_element() instead\n",
      "  warnings.warn(\"find_element_by_* commands are deprecated. Please use find_element() instead\")\n"
     ]
    },
    {
     "name": "stdout",
     "output_type": "stream",
     "text": [
      "Collecting Cats\n",
      "Collecting Prix\n",
      "Collecting Desc\n",
      "Writing...\n",
      "Next OBJ\n"
     ]
    },
    {
     "name": "stderr",
     "output_type": "stream",
     "text": [
      "/var/folders/db/q45d2_5d0c52zkvrdw9tp0xm0000gn/T/ipykernel_5737/1366429987.py:8: DeprecationWarning: find_element_by_* commands are deprecated. Please use find_element() instead\n",
      "  tmpCategory = driver.find_element_by_class_name(\"breadcrumb\").text\n",
      "/var/folders/db/q45d2_5d0c52zkvrdw9tp0xm0000gn/T/ipykernel_5737/1366429987.py:14: DeprecationWarning: find_element_by_* commands are deprecated. Please use find_element() instead\n",
      "  regPrice = driver.find_element_by_class_name(\"disc-price\").text\n",
      "/var/folders/db/q45d2_5d0c52zkvrdw9tp0xm0000gn/T/ipykernel_5737/1366429987.py:19: DeprecationWarning: find_element_by_* commands are deprecated. Please use find_element() instead\n",
      "  tmppromoPrice = driver.find_element_by_class_name(\"price-value\").text\n",
      "/var/folders/db/q45d2_5d0c52zkvrdw9tp0xm0000gn/T/ipykernel_5737/1366429987.py:23: DeprecationWarning: find_element_by_* commands are deprecated. Please use find_element() instead\n",
      "  desc =  driver.find_element_by_class_name('productspec').text\n",
      "/var/folders/db/q45d2_5d0c52zkvrdw9tp0xm0000gn/T/ipykernel_5737/1366429987.py:3: DeprecationWarning: find_element_by_* commands are deprecated. Please use find_element() instead\n",
      "  boxitem = driver.find_element_by_xpath(\"//div[@class='box-item clearfix']\")\n",
      "/Users/gayuhkautaman/miniforge3/envs/dataMining/lib/python3.10/site-packages/selenium/webdriver/remote/webelement.py:464: UserWarning: find_elements_by_* commands are deprecated. Please use find_elements() instead\n",
      "  warnings.warn(\"find_elements_by_* commands are deprecated. Please use find_elements() instead\")\n",
      "/Users/gayuhkautaman/miniforge3/envs/dataMining/lib/python3.10/site-packages/selenium/webdriver/remote/webelement.py:446: UserWarning: find_element_by_* commands are deprecated. Please use find_element() instead\n",
      "  warnings.warn(\"find_element_by_* commands are deprecated. Please use find_element() instead\")\n"
     ]
    },
    {
     "name": "stdout",
     "output_type": "stream",
     "text": [
      "Collecting Cats\n",
      "Collecting Prix\n",
      "NO DATA\n",
      "Collecting Desc\n",
      "Writing...\n",
      "Next OBJ\n"
     ]
    },
    {
     "name": "stderr",
     "output_type": "stream",
     "text": [
      "/var/folders/db/q45d2_5d0c52zkvrdw9tp0xm0000gn/T/ipykernel_5737/1366429987.py:8: DeprecationWarning: find_element_by_* commands are deprecated. Please use find_element() instead\n",
      "  tmpCategory = driver.find_element_by_class_name(\"breadcrumb\").text\n",
      "/var/folders/db/q45d2_5d0c52zkvrdw9tp0xm0000gn/T/ipykernel_5737/1366429987.py:14: DeprecationWarning: find_element_by_* commands are deprecated. Please use find_element() instead\n",
      "  regPrice = driver.find_element_by_class_name(\"disc-price\").text\n",
      "/var/folders/db/q45d2_5d0c52zkvrdw9tp0xm0000gn/T/ipykernel_5737/1366429987.py:19: DeprecationWarning: find_element_by_* commands are deprecated. Please use find_element() instead\n",
      "  tmppromoPrice = driver.find_element_by_class_name(\"price-value\").text\n",
      "/var/folders/db/q45d2_5d0c52zkvrdw9tp0xm0000gn/T/ipykernel_5737/1366429987.py:23: DeprecationWarning: find_element_by_* commands are deprecated. Please use find_element() instead\n",
      "  desc =  driver.find_element_by_class_name('productspec').text\n",
      "/var/folders/db/q45d2_5d0c52zkvrdw9tp0xm0000gn/T/ipykernel_5737/1366429987.py:3: DeprecationWarning: find_element_by_* commands are deprecated. Please use find_element() instead\n",
      "  boxitem = driver.find_element_by_xpath(\"//div[@class='box-item clearfix']\")\n",
      "/Users/gayuhkautaman/miniforge3/envs/dataMining/lib/python3.10/site-packages/selenium/webdriver/remote/webelement.py:464: UserWarning: find_elements_by_* commands are deprecated. Please use find_elements() instead\n",
      "  warnings.warn(\"find_elements_by_* commands are deprecated. Please use find_elements() instead\")\n",
      "/Users/gayuhkautaman/miniforge3/envs/dataMining/lib/python3.10/site-packages/selenium/webdriver/remote/webelement.py:446: UserWarning: find_element_by_* commands are deprecated. Please use find_element() instead\n",
      "  warnings.warn(\"find_element_by_* commands are deprecated. Please use find_element() instead\")\n"
     ]
    },
    {
     "name": "stdout",
     "output_type": "stream",
     "text": [
      "Collecting Cats\n",
      "Collecting Prix\n",
      "Collecting Desc\n",
      "Writing...\n",
      "Next OBJ\n"
     ]
    },
    {
     "name": "stderr",
     "output_type": "stream",
     "text": [
      "/var/folders/db/q45d2_5d0c52zkvrdw9tp0xm0000gn/T/ipykernel_5737/1366429987.py:8: DeprecationWarning: find_element_by_* commands are deprecated. Please use find_element() instead\n",
      "  tmpCategory = driver.find_element_by_class_name(\"breadcrumb\").text\n",
      "/var/folders/db/q45d2_5d0c52zkvrdw9tp0xm0000gn/T/ipykernel_5737/1366429987.py:14: DeprecationWarning: find_element_by_* commands are deprecated. Please use find_element() instead\n",
      "  regPrice = driver.find_element_by_class_name(\"disc-price\").text\n",
      "/var/folders/db/q45d2_5d0c52zkvrdw9tp0xm0000gn/T/ipykernel_5737/1366429987.py:19: DeprecationWarning: find_element_by_* commands are deprecated. Please use find_element() instead\n",
      "  tmppromoPrice = driver.find_element_by_class_name(\"price-value\").text\n",
      "/var/folders/db/q45d2_5d0c52zkvrdw9tp0xm0000gn/T/ipykernel_5737/1366429987.py:23: DeprecationWarning: find_element_by_* commands are deprecated. Please use find_element() instead\n",
      "  desc =  driver.find_element_by_class_name('productspec').text\n",
      "/var/folders/db/q45d2_5d0c52zkvrdw9tp0xm0000gn/T/ipykernel_5737/1366429987.py:3: DeprecationWarning: find_element_by_* commands are deprecated. Please use find_element() instead\n",
      "  boxitem = driver.find_element_by_xpath(\"//div[@class='box-item clearfix']\")\n",
      "/Users/gayuhkautaman/miniforge3/envs/dataMining/lib/python3.10/site-packages/selenium/webdriver/remote/webelement.py:464: UserWarning: find_elements_by_* commands are deprecated. Please use find_elements() instead\n",
      "  warnings.warn(\"find_elements_by_* commands are deprecated. Please use find_elements() instead\")\n",
      "/Users/gayuhkautaman/miniforge3/envs/dataMining/lib/python3.10/site-packages/selenium/webdriver/remote/webelement.py:446: UserWarning: find_element_by_* commands are deprecated. Please use find_element() instead\n",
      "  warnings.warn(\"find_element_by_* commands are deprecated. Please use find_element() instead\")\n"
     ]
    },
    {
     "name": "stdout",
     "output_type": "stream",
     "text": [
      "Collecting Cats\n",
      "Collecting Prix\n",
      "Collecting Desc\n",
      "Writing...\n",
      "Next OBJ\n"
     ]
    },
    {
     "name": "stderr",
     "output_type": "stream",
     "text": [
      "/var/folders/db/q45d2_5d0c52zkvrdw9tp0xm0000gn/T/ipykernel_5737/1366429987.py:8: DeprecationWarning: find_element_by_* commands are deprecated. Please use find_element() instead\n",
      "  tmpCategory = driver.find_element_by_class_name(\"breadcrumb\").text\n",
      "/var/folders/db/q45d2_5d0c52zkvrdw9tp0xm0000gn/T/ipykernel_5737/1366429987.py:14: DeprecationWarning: find_element_by_* commands are deprecated. Please use find_element() instead\n",
      "  regPrice = driver.find_element_by_class_name(\"disc-price\").text\n",
      "/var/folders/db/q45d2_5d0c52zkvrdw9tp0xm0000gn/T/ipykernel_5737/1366429987.py:19: DeprecationWarning: find_element_by_* commands are deprecated. Please use find_element() instead\n",
      "  tmppromoPrice = driver.find_element_by_class_name(\"price-value\").text\n",
      "/var/folders/db/q45d2_5d0c52zkvrdw9tp0xm0000gn/T/ipykernel_5737/1366429987.py:23: DeprecationWarning: find_element_by_* commands are deprecated. Please use find_element() instead\n",
      "  desc =  driver.find_element_by_class_name('productspec').text\n",
      "/var/folders/db/q45d2_5d0c52zkvrdw9tp0xm0000gn/T/ipykernel_5737/1366429987.py:3: DeprecationWarning: find_element_by_* commands are deprecated. Please use find_element() instead\n",
      "  boxitem = driver.find_element_by_xpath(\"//div[@class='box-item clearfix']\")\n",
      "/Users/gayuhkautaman/miniforge3/envs/dataMining/lib/python3.10/site-packages/selenium/webdriver/remote/webelement.py:464: UserWarning: find_elements_by_* commands are deprecated. Please use find_elements() instead\n",
      "  warnings.warn(\"find_elements_by_* commands are deprecated. Please use find_elements() instead\")\n",
      "/Users/gayuhkautaman/miniforge3/envs/dataMining/lib/python3.10/site-packages/selenium/webdriver/remote/webelement.py:446: UserWarning: find_element_by_* commands are deprecated. Please use find_element() instead\n",
      "  warnings.warn(\"find_element_by_* commands are deprecated. Please use find_element() instead\")\n"
     ]
    },
    {
     "name": "stdout",
     "output_type": "stream",
     "text": [
      "Collecting Cats\n",
      "Collecting Prix\n",
      "Collecting Desc\n",
      "Writing...\n",
      "Next OBJ\n"
     ]
    },
    {
     "name": "stderr",
     "output_type": "stream",
     "text": [
      "/var/folders/db/q45d2_5d0c52zkvrdw9tp0xm0000gn/T/ipykernel_5737/1366429987.py:8: DeprecationWarning: find_element_by_* commands are deprecated. Please use find_element() instead\n",
      "  tmpCategory = driver.find_element_by_class_name(\"breadcrumb\").text\n",
      "/var/folders/db/q45d2_5d0c52zkvrdw9tp0xm0000gn/T/ipykernel_5737/1366429987.py:14: DeprecationWarning: find_element_by_* commands are deprecated. Please use find_element() instead\n",
      "  regPrice = driver.find_element_by_class_name(\"disc-price\").text\n",
      "/var/folders/db/q45d2_5d0c52zkvrdw9tp0xm0000gn/T/ipykernel_5737/1366429987.py:19: DeprecationWarning: find_element_by_* commands are deprecated. Please use find_element() instead\n",
      "  tmppromoPrice = driver.find_element_by_class_name(\"price-value\").text\n",
      "/var/folders/db/q45d2_5d0c52zkvrdw9tp0xm0000gn/T/ipykernel_5737/1366429987.py:23: DeprecationWarning: find_element_by_* commands are deprecated. Please use find_element() instead\n",
      "  desc =  driver.find_element_by_class_name('productspec').text\n",
      "/var/folders/db/q45d2_5d0c52zkvrdw9tp0xm0000gn/T/ipykernel_5737/1366429987.py:3: DeprecationWarning: find_element_by_* commands are deprecated. Please use find_element() instead\n",
      "  boxitem = driver.find_element_by_xpath(\"//div[@class='box-item clearfix']\")\n",
      "/Users/gayuhkautaman/miniforge3/envs/dataMining/lib/python3.10/site-packages/selenium/webdriver/remote/webelement.py:464: UserWarning: find_elements_by_* commands are deprecated. Please use find_elements() instead\n",
      "  warnings.warn(\"find_elements_by_* commands are deprecated. Please use find_elements() instead\")\n",
      "/Users/gayuhkautaman/miniforge3/envs/dataMining/lib/python3.10/site-packages/selenium/webdriver/remote/webelement.py:446: UserWarning: find_element_by_* commands are deprecated. Please use find_element() instead\n",
      "  warnings.warn(\"find_element_by_* commands are deprecated. Please use find_element() instead\")\n"
     ]
    },
    {
     "name": "stdout",
     "output_type": "stream",
     "text": [
      "Collecting Cats\n",
      "Collecting Prix\n",
      "Collecting Desc\n",
      "Writing...\n",
      "Next OBJ\n"
     ]
    },
    {
     "name": "stderr",
     "output_type": "stream",
     "text": [
      "/var/folders/db/q45d2_5d0c52zkvrdw9tp0xm0000gn/T/ipykernel_5737/1366429987.py:8: DeprecationWarning: find_element_by_* commands are deprecated. Please use find_element() instead\n",
      "  tmpCategory = driver.find_element_by_class_name(\"breadcrumb\").text\n",
      "/var/folders/db/q45d2_5d0c52zkvrdw9tp0xm0000gn/T/ipykernel_5737/1366429987.py:14: DeprecationWarning: find_element_by_* commands are deprecated. Please use find_element() instead\n",
      "  regPrice = driver.find_element_by_class_name(\"disc-price\").text\n",
      "/var/folders/db/q45d2_5d0c52zkvrdw9tp0xm0000gn/T/ipykernel_5737/1366429987.py:19: DeprecationWarning: find_element_by_* commands are deprecated. Please use find_element() instead\n",
      "  tmppromoPrice = driver.find_element_by_class_name(\"price-value\").text\n",
      "/var/folders/db/q45d2_5d0c52zkvrdw9tp0xm0000gn/T/ipykernel_5737/1366429987.py:23: DeprecationWarning: find_element_by_* commands are deprecated. Please use find_element() instead\n",
      "  desc =  driver.find_element_by_class_name('productspec').text\n",
      "/var/folders/db/q45d2_5d0c52zkvrdw9tp0xm0000gn/T/ipykernel_5737/1366429987.py:3: DeprecationWarning: find_element_by_* commands are deprecated. Please use find_element() instead\n",
      "  boxitem = driver.find_element_by_xpath(\"//div[@class='box-item clearfix']\")\n",
      "/Users/gayuhkautaman/miniforge3/envs/dataMining/lib/python3.10/site-packages/selenium/webdriver/remote/webelement.py:464: UserWarning: find_elements_by_* commands are deprecated. Please use find_elements() instead\n",
      "  warnings.warn(\"find_elements_by_* commands are deprecated. Please use find_elements() instead\")\n",
      "/Users/gayuhkautaman/miniforge3/envs/dataMining/lib/python3.10/site-packages/selenium/webdriver/remote/webelement.py:446: UserWarning: find_element_by_* commands are deprecated. Please use find_element() instead\n",
      "  warnings.warn(\"find_element_by_* commands are deprecated. Please use find_element() instead\")\n"
     ]
    },
    {
     "name": "stdout",
     "output_type": "stream",
     "text": [
      "Collecting Cats\n",
      "Collecting Prix\n",
      "Collecting Desc\n",
      "Writing...\n",
      "Next OBJ\n"
     ]
    },
    {
     "name": "stderr",
     "output_type": "stream",
     "text": [
      "/var/folders/db/q45d2_5d0c52zkvrdw9tp0xm0000gn/T/ipykernel_5737/1366429987.py:8: DeprecationWarning: find_element_by_* commands are deprecated. Please use find_element() instead\n",
      "  tmpCategory = driver.find_element_by_class_name(\"breadcrumb\").text\n",
      "/var/folders/db/q45d2_5d0c52zkvrdw9tp0xm0000gn/T/ipykernel_5737/1366429987.py:14: DeprecationWarning: find_element_by_* commands are deprecated. Please use find_element() instead\n",
      "  regPrice = driver.find_element_by_class_name(\"disc-price\").text\n",
      "/var/folders/db/q45d2_5d0c52zkvrdw9tp0xm0000gn/T/ipykernel_5737/1366429987.py:19: DeprecationWarning: find_element_by_* commands are deprecated. Please use find_element() instead\n",
      "  tmppromoPrice = driver.find_element_by_class_name(\"price-value\").text\n",
      "/var/folders/db/q45d2_5d0c52zkvrdw9tp0xm0000gn/T/ipykernel_5737/1366429987.py:23: DeprecationWarning: find_element_by_* commands are deprecated. Please use find_element() instead\n",
      "  desc =  driver.find_element_by_class_name('productspec').text\n",
      "/var/folders/db/q45d2_5d0c52zkvrdw9tp0xm0000gn/T/ipykernel_5737/1366429987.py:3: DeprecationWarning: find_element_by_* commands are deprecated. Please use find_element() instead\n",
      "  boxitem = driver.find_element_by_xpath(\"//div[@class='box-item clearfix']\")\n",
      "/Users/gayuhkautaman/miniforge3/envs/dataMining/lib/python3.10/site-packages/selenium/webdriver/remote/webelement.py:464: UserWarning: find_elements_by_* commands are deprecated. Please use find_elements() instead\n",
      "  warnings.warn(\"find_elements_by_* commands are deprecated. Please use find_elements() instead\")\n",
      "/Users/gayuhkautaman/miniforge3/envs/dataMining/lib/python3.10/site-packages/selenium/webdriver/remote/webelement.py:446: UserWarning: find_element_by_* commands are deprecated. Please use find_element() instead\n",
      "  warnings.warn(\"find_element_by_* commands are deprecated. Please use find_element() instead\")\n"
     ]
    },
    {
     "name": "stdout",
     "output_type": "stream",
     "text": [
      "Collecting Cats\n",
      "Collecting Prix\n",
      "Collecting Desc\n",
      "Writing...\n",
      "Next OBJ\n"
     ]
    },
    {
     "name": "stderr",
     "output_type": "stream",
     "text": [
      "/var/folders/db/q45d2_5d0c52zkvrdw9tp0xm0000gn/T/ipykernel_5737/1366429987.py:8: DeprecationWarning: find_element_by_* commands are deprecated. Please use find_element() instead\n",
      "  tmpCategory = driver.find_element_by_class_name(\"breadcrumb\").text\n",
      "/var/folders/db/q45d2_5d0c52zkvrdw9tp0xm0000gn/T/ipykernel_5737/1366429987.py:14: DeprecationWarning: find_element_by_* commands are deprecated. Please use find_element() instead\n",
      "  regPrice = driver.find_element_by_class_name(\"disc-price\").text\n",
      "/var/folders/db/q45d2_5d0c52zkvrdw9tp0xm0000gn/T/ipykernel_5737/1366429987.py:19: DeprecationWarning: find_element_by_* commands are deprecated. Please use find_element() instead\n",
      "  tmppromoPrice = driver.find_element_by_class_name(\"price-value\").text\n",
      "/var/folders/db/q45d2_5d0c52zkvrdw9tp0xm0000gn/T/ipykernel_5737/1366429987.py:23: DeprecationWarning: find_element_by_* commands are deprecated. Please use find_element() instead\n",
      "  desc =  driver.find_element_by_class_name('productspec').text\n",
      "/var/folders/db/q45d2_5d0c52zkvrdw9tp0xm0000gn/T/ipykernel_5737/1366429987.py:3: DeprecationWarning: find_element_by_* commands are deprecated. Please use find_element() instead\n",
      "  boxitem = driver.find_element_by_xpath(\"//div[@class='box-item clearfix']\")\n",
      "/Users/gayuhkautaman/miniforge3/envs/dataMining/lib/python3.10/site-packages/selenium/webdriver/remote/webelement.py:464: UserWarning: find_elements_by_* commands are deprecated. Please use find_elements() instead\n",
      "  warnings.warn(\"find_elements_by_* commands are deprecated. Please use find_elements() instead\")\n",
      "/Users/gayuhkautaman/miniforge3/envs/dataMining/lib/python3.10/site-packages/selenium/webdriver/remote/webelement.py:446: UserWarning: find_element_by_* commands are deprecated. Please use find_element() instead\n",
      "  warnings.warn(\"find_element_by_* commands are deprecated. Please use find_element() instead\")\n"
     ]
    },
    {
     "name": "stdout",
     "output_type": "stream",
     "text": [
      "Collecting Cats\n",
      "Collecting Prix\n",
      "Collecting Desc\n",
      "Writing...\n",
      "Next OBJ\n"
     ]
    },
    {
     "name": "stderr",
     "output_type": "stream",
     "text": [
      "/var/folders/db/q45d2_5d0c52zkvrdw9tp0xm0000gn/T/ipykernel_5737/1366429987.py:8: DeprecationWarning: find_element_by_* commands are deprecated. Please use find_element() instead\n",
      "  tmpCategory = driver.find_element_by_class_name(\"breadcrumb\").text\n",
      "/var/folders/db/q45d2_5d0c52zkvrdw9tp0xm0000gn/T/ipykernel_5737/1366429987.py:14: DeprecationWarning: find_element_by_* commands are deprecated. Please use find_element() instead\n",
      "  regPrice = driver.find_element_by_class_name(\"disc-price\").text\n",
      "/var/folders/db/q45d2_5d0c52zkvrdw9tp0xm0000gn/T/ipykernel_5737/1366429987.py:19: DeprecationWarning: find_element_by_* commands are deprecated. Please use find_element() instead\n",
      "  tmppromoPrice = driver.find_element_by_class_name(\"price-value\").text\n",
      "/var/folders/db/q45d2_5d0c52zkvrdw9tp0xm0000gn/T/ipykernel_5737/1366429987.py:23: DeprecationWarning: find_element_by_* commands are deprecated. Please use find_element() instead\n",
      "  desc =  driver.find_element_by_class_name('productspec').text\n",
      "/var/folders/db/q45d2_5d0c52zkvrdw9tp0xm0000gn/T/ipykernel_5737/1366429987.py:3: DeprecationWarning: find_element_by_* commands are deprecated. Please use find_element() instead\n",
      "  boxitem = driver.find_element_by_xpath(\"//div[@class='box-item clearfix']\")\n",
      "/Users/gayuhkautaman/miniforge3/envs/dataMining/lib/python3.10/site-packages/selenium/webdriver/remote/webelement.py:464: UserWarning: find_elements_by_* commands are deprecated. Please use find_elements() instead\n",
      "  warnings.warn(\"find_elements_by_* commands are deprecated. Please use find_elements() instead\")\n",
      "/Users/gayuhkautaman/miniforge3/envs/dataMining/lib/python3.10/site-packages/selenium/webdriver/remote/webelement.py:446: UserWarning: find_element_by_* commands are deprecated. Please use find_element() instead\n",
      "  warnings.warn(\"find_element_by_* commands are deprecated. Please use find_element() instead\")\n"
     ]
    },
    {
     "name": "stdout",
     "output_type": "stream",
     "text": [
      "Collecting Cats\n",
      "Collecting Prix\n",
      "Collecting Desc\n",
      "Writing...\n",
      "Next OBJ\n"
     ]
    },
    {
     "name": "stderr",
     "output_type": "stream",
     "text": [
      "/var/folders/db/q45d2_5d0c52zkvrdw9tp0xm0000gn/T/ipykernel_5737/1366429987.py:8: DeprecationWarning: find_element_by_* commands are deprecated. Please use find_element() instead\n",
      "  tmpCategory = driver.find_element_by_class_name(\"breadcrumb\").text\n",
      "/var/folders/db/q45d2_5d0c52zkvrdw9tp0xm0000gn/T/ipykernel_5737/1366429987.py:14: DeprecationWarning: find_element_by_* commands are deprecated. Please use find_element() instead\n",
      "  regPrice = driver.find_element_by_class_name(\"disc-price\").text\n",
      "/var/folders/db/q45d2_5d0c52zkvrdw9tp0xm0000gn/T/ipykernel_5737/1366429987.py:19: DeprecationWarning: find_element_by_* commands are deprecated. Please use find_element() instead\n",
      "  tmppromoPrice = driver.find_element_by_class_name(\"price-value\").text\n",
      "/var/folders/db/q45d2_5d0c52zkvrdw9tp0xm0000gn/T/ipykernel_5737/1366429987.py:23: DeprecationWarning: find_element_by_* commands are deprecated. Please use find_element() instead\n",
      "  desc =  driver.find_element_by_class_name('productspec').text\n",
      "/var/folders/db/q45d2_5d0c52zkvrdw9tp0xm0000gn/T/ipykernel_5737/1366429987.py:3: DeprecationWarning: find_element_by_* commands are deprecated. Please use find_element() instead\n",
      "  boxitem = driver.find_element_by_xpath(\"//div[@class='box-item clearfix']\")\n",
      "/Users/gayuhkautaman/miniforge3/envs/dataMining/lib/python3.10/site-packages/selenium/webdriver/remote/webelement.py:464: UserWarning: find_elements_by_* commands are deprecated. Please use find_elements() instead\n",
      "  warnings.warn(\"find_elements_by_* commands are deprecated. Please use find_elements() instead\")\n",
      "/Users/gayuhkautaman/miniforge3/envs/dataMining/lib/python3.10/site-packages/selenium/webdriver/remote/webelement.py:446: UserWarning: find_element_by_* commands are deprecated. Please use find_element() instead\n",
      "  warnings.warn(\"find_element_by_* commands are deprecated. Please use find_element() instead\")\n"
     ]
    },
    {
     "name": "stdout",
     "output_type": "stream",
     "text": [
      "Collecting Cats\n",
      "Collecting Prix\n",
      "Collecting Desc\n",
      "Writing...\n",
      "Next OBJ\n"
     ]
    },
    {
     "name": "stderr",
     "output_type": "stream",
     "text": [
      "/var/folders/db/q45d2_5d0c52zkvrdw9tp0xm0000gn/T/ipykernel_5737/1366429987.py:8: DeprecationWarning: find_element_by_* commands are deprecated. Please use find_element() instead\n",
      "  tmpCategory = driver.find_element_by_class_name(\"breadcrumb\").text\n",
      "/var/folders/db/q45d2_5d0c52zkvrdw9tp0xm0000gn/T/ipykernel_5737/1366429987.py:14: DeprecationWarning: find_element_by_* commands are deprecated. Please use find_element() instead\n",
      "  regPrice = driver.find_element_by_class_name(\"disc-price\").text\n",
      "/var/folders/db/q45d2_5d0c52zkvrdw9tp0xm0000gn/T/ipykernel_5737/1366429987.py:19: DeprecationWarning: find_element_by_* commands are deprecated. Please use find_element() instead\n",
      "  tmppromoPrice = driver.find_element_by_class_name(\"price-value\").text\n",
      "/var/folders/db/q45d2_5d0c52zkvrdw9tp0xm0000gn/T/ipykernel_5737/1366429987.py:23: DeprecationWarning: find_element_by_* commands are deprecated. Please use find_element() instead\n",
      "  desc =  driver.find_element_by_class_name('productspec').text\n",
      "/var/folders/db/q45d2_5d0c52zkvrdw9tp0xm0000gn/T/ipykernel_5737/1366429987.py:3: DeprecationWarning: find_element_by_* commands are deprecated. Please use find_element() instead\n",
      "  boxitem = driver.find_element_by_xpath(\"//div[@class='box-item clearfix']\")\n",
      "/Users/gayuhkautaman/miniforge3/envs/dataMining/lib/python3.10/site-packages/selenium/webdriver/remote/webelement.py:464: UserWarning: find_elements_by_* commands are deprecated. Please use find_elements() instead\n",
      "  warnings.warn(\"find_elements_by_* commands are deprecated. Please use find_elements() instead\")\n",
      "/Users/gayuhkautaman/miniforge3/envs/dataMining/lib/python3.10/site-packages/selenium/webdriver/remote/webelement.py:446: UserWarning: find_element_by_* commands are deprecated. Please use find_element() instead\n",
      "  warnings.warn(\"find_element_by_* commands are deprecated. Please use find_element() instead\")\n"
     ]
    },
    {
     "name": "stdout",
     "output_type": "stream",
     "text": [
      "Collecting Cats\n",
      "Collecting Prix\n",
      "Collecting Desc\n",
      "Writing...\n",
      "Next OBJ\n"
     ]
    },
    {
     "name": "stderr",
     "output_type": "stream",
     "text": [
      "/var/folders/db/q45d2_5d0c52zkvrdw9tp0xm0000gn/T/ipykernel_5737/1366429987.py:8: DeprecationWarning: find_element_by_* commands are deprecated. Please use find_element() instead\n",
      "  tmpCategory = driver.find_element_by_class_name(\"breadcrumb\").text\n",
      "/var/folders/db/q45d2_5d0c52zkvrdw9tp0xm0000gn/T/ipykernel_5737/1366429987.py:14: DeprecationWarning: find_element_by_* commands are deprecated. Please use find_element() instead\n",
      "  regPrice = driver.find_element_by_class_name(\"disc-price\").text\n",
      "/var/folders/db/q45d2_5d0c52zkvrdw9tp0xm0000gn/T/ipykernel_5737/1366429987.py:19: DeprecationWarning: find_element_by_* commands are deprecated. Please use find_element() instead\n",
      "  tmppromoPrice = driver.find_element_by_class_name(\"price-value\").text\n",
      "/var/folders/db/q45d2_5d0c52zkvrdw9tp0xm0000gn/T/ipykernel_5737/1366429987.py:23: DeprecationWarning: find_element_by_* commands are deprecated. Please use find_element() instead\n",
      "  desc =  driver.find_element_by_class_name('productspec').text\n",
      "/var/folders/db/q45d2_5d0c52zkvrdw9tp0xm0000gn/T/ipykernel_5737/1366429987.py:3: DeprecationWarning: find_element_by_* commands are deprecated. Please use find_element() instead\n",
      "  boxitem = driver.find_element_by_xpath(\"//div[@class='box-item clearfix']\")\n",
      "/Users/gayuhkautaman/miniforge3/envs/dataMining/lib/python3.10/site-packages/selenium/webdriver/remote/webelement.py:464: UserWarning: find_elements_by_* commands are deprecated. Please use find_elements() instead\n",
      "  warnings.warn(\"find_elements_by_* commands are deprecated. Please use find_elements() instead\")\n",
      "/Users/gayuhkautaman/miniforge3/envs/dataMining/lib/python3.10/site-packages/selenium/webdriver/remote/webelement.py:446: UserWarning: find_element_by_* commands are deprecated. Please use find_element() instead\n",
      "  warnings.warn(\"find_element_by_* commands are deprecated. Please use find_element() instead\")\n"
     ]
    },
    {
     "name": "stdout",
     "output_type": "stream",
     "text": [
      "Collecting Cats\n",
      "Collecting Prix\n",
      "Collecting Desc\n",
      "Writing...\n",
      "Next OBJ\n"
     ]
    },
    {
     "name": "stderr",
     "output_type": "stream",
     "text": [
      "/var/folders/db/q45d2_5d0c52zkvrdw9tp0xm0000gn/T/ipykernel_5737/1366429987.py:8: DeprecationWarning: find_element_by_* commands are deprecated. Please use find_element() instead\n",
      "  tmpCategory = driver.find_element_by_class_name(\"breadcrumb\").text\n",
      "/var/folders/db/q45d2_5d0c52zkvrdw9tp0xm0000gn/T/ipykernel_5737/1366429987.py:14: DeprecationWarning: find_element_by_* commands are deprecated. Please use find_element() instead\n",
      "  regPrice = driver.find_element_by_class_name(\"disc-price\").text\n",
      "/var/folders/db/q45d2_5d0c52zkvrdw9tp0xm0000gn/T/ipykernel_5737/1366429987.py:19: DeprecationWarning: find_element_by_* commands are deprecated. Please use find_element() instead\n",
      "  tmppromoPrice = driver.find_element_by_class_name(\"price-value\").text\n",
      "/var/folders/db/q45d2_5d0c52zkvrdw9tp0xm0000gn/T/ipykernel_5737/1366429987.py:23: DeprecationWarning: find_element_by_* commands are deprecated. Please use find_element() instead\n",
      "  desc =  driver.find_element_by_class_name('productspec').text\n",
      "/var/folders/db/q45d2_5d0c52zkvrdw9tp0xm0000gn/T/ipykernel_5737/1366429987.py:3: DeprecationWarning: find_element_by_* commands are deprecated. Please use find_element() instead\n",
      "  boxitem = driver.find_element_by_xpath(\"//div[@class='box-item clearfix']\")\n",
      "/Users/gayuhkautaman/miniforge3/envs/dataMining/lib/python3.10/site-packages/selenium/webdriver/remote/webelement.py:464: UserWarning: find_elements_by_* commands are deprecated. Please use find_elements() instead\n",
      "  warnings.warn(\"find_elements_by_* commands are deprecated. Please use find_elements() instead\")\n",
      "/Users/gayuhkautaman/miniforge3/envs/dataMining/lib/python3.10/site-packages/selenium/webdriver/remote/webelement.py:446: UserWarning: find_element_by_* commands are deprecated. Please use find_element() instead\n",
      "  warnings.warn(\"find_element_by_* commands are deprecated. Please use find_element() instead\")\n"
     ]
    },
    {
     "name": "stdout",
     "output_type": "stream",
     "text": [
      "Collecting Cats\n",
      "Collecting Prix\n",
      "Collecting Desc\n",
      "Writing...\n",
      "Next OBJ\n"
     ]
    },
    {
     "name": "stderr",
     "output_type": "stream",
     "text": [
      "/var/folders/db/q45d2_5d0c52zkvrdw9tp0xm0000gn/T/ipykernel_5737/1366429987.py:8: DeprecationWarning: find_element_by_* commands are deprecated. Please use find_element() instead\n",
      "  tmpCategory = driver.find_element_by_class_name(\"breadcrumb\").text\n",
      "/var/folders/db/q45d2_5d0c52zkvrdw9tp0xm0000gn/T/ipykernel_5737/1366429987.py:14: DeprecationWarning: find_element_by_* commands are deprecated. Please use find_element() instead\n",
      "  regPrice = driver.find_element_by_class_name(\"disc-price\").text\n",
      "/var/folders/db/q45d2_5d0c52zkvrdw9tp0xm0000gn/T/ipykernel_5737/1366429987.py:19: DeprecationWarning: find_element_by_* commands are deprecated. Please use find_element() instead\n",
      "  tmppromoPrice = driver.find_element_by_class_name(\"price-value\").text\n",
      "/var/folders/db/q45d2_5d0c52zkvrdw9tp0xm0000gn/T/ipykernel_5737/1366429987.py:23: DeprecationWarning: find_element_by_* commands are deprecated. Please use find_element() instead\n",
      "  desc =  driver.find_element_by_class_name('productspec').text\n",
      "/var/folders/db/q45d2_5d0c52zkvrdw9tp0xm0000gn/T/ipykernel_5737/1366429987.py:3: DeprecationWarning: find_element_by_* commands are deprecated. Please use find_element() instead\n",
      "  boxitem = driver.find_element_by_xpath(\"//div[@class='box-item clearfix']\")\n",
      "/Users/gayuhkautaman/miniforge3/envs/dataMining/lib/python3.10/site-packages/selenium/webdriver/remote/webelement.py:464: UserWarning: find_elements_by_* commands are deprecated. Please use find_elements() instead\n",
      "  warnings.warn(\"find_elements_by_* commands are deprecated. Please use find_elements() instead\")\n",
      "/Users/gayuhkautaman/miniforge3/envs/dataMining/lib/python3.10/site-packages/selenium/webdriver/remote/webelement.py:446: UserWarning: find_element_by_* commands are deprecated. Please use find_element() instead\n",
      "  warnings.warn(\"find_element_by_* commands are deprecated. Please use find_element() instead\")\n"
     ]
    },
    {
     "name": "stdout",
     "output_type": "stream",
     "text": [
      "Collecting Cats\n",
      "Collecting Prix\n",
      "Collecting Desc\n",
      "Writing...\n",
      "Next OBJ\n"
     ]
    },
    {
     "name": "stderr",
     "output_type": "stream",
     "text": [
      "/var/folders/db/q45d2_5d0c52zkvrdw9tp0xm0000gn/T/ipykernel_5737/1366429987.py:8: DeprecationWarning: find_element_by_* commands are deprecated. Please use find_element() instead\n",
      "  tmpCategory = driver.find_element_by_class_name(\"breadcrumb\").text\n",
      "/var/folders/db/q45d2_5d0c52zkvrdw9tp0xm0000gn/T/ipykernel_5737/1366429987.py:14: DeprecationWarning: find_element_by_* commands are deprecated. Please use find_element() instead\n",
      "  regPrice = driver.find_element_by_class_name(\"disc-price\").text\n",
      "/var/folders/db/q45d2_5d0c52zkvrdw9tp0xm0000gn/T/ipykernel_5737/1366429987.py:19: DeprecationWarning: find_element_by_* commands are deprecated. Please use find_element() instead\n",
      "  tmppromoPrice = driver.find_element_by_class_name(\"price-value\").text\n",
      "/var/folders/db/q45d2_5d0c52zkvrdw9tp0xm0000gn/T/ipykernel_5737/1366429987.py:23: DeprecationWarning: find_element_by_* commands are deprecated. Please use find_element() instead\n",
      "  desc =  driver.find_element_by_class_name('productspec').text\n",
      "/var/folders/db/q45d2_5d0c52zkvrdw9tp0xm0000gn/T/ipykernel_5737/1366429987.py:3: DeprecationWarning: find_element_by_* commands are deprecated. Please use find_element() instead\n",
      "  boxitem = driver.find_element_by_xpath(\"//div[@class='box-item clearfix']\")\n",
      "/Users/gayuhkautaman/miniforge3/envs/dataMining/lib/python3.10/site-packages/selenium/webdriver/remote/webelement.py:464: UserWarning: find_elements_by_* commands are deprecated. Please use find_elements() instead\n",
      "  warnings.warn(\"find_elements_by_* commands are deprecated. Please use find_elements() instead\")\n",
      "/Users/gayuhkautaman/miniforge3/envs/dataMining/lib/python3.10/site-packages/selenium/webdriver/remote/webelement.py:446: UserWarning: find_element_by_* commands are deprecated. Please use find_element() instead\n",
      "  warnings.warn(\"find_element_by_* commands are deprecated. Please use find_element() instead\")\n"
     ]
    },
    {
     "name": "stdout",
     "output_type": "stream",
     "text": [
      "Collecting Cats\n",
      "Collecting Prix\n",
      "Collecting Desc\n",
      "Writing...\n",
      "Next OBJ\n"
     ]
    },
    {
     "name": "stderr",
     "output_type": "stream",
     "text": [
      "/var/folders/db/q45d2_5d0c52zkvrdw9tp0xm0000gn/T/ipykernel_5737/1366429987.py:8: DeprecationWarning: find_element_by_* commands are deprecated. Please use find_element() instead\n",
      "  tmpCategory = driver.find_element_by_class_name(\"breadcrumb\").text\n",
      "/var/folders/db/q45d2_5d0c52zkvrdw9tp0xm0000gn/T/ipykernel_5737/1366429987.py:14: DeprecationWarning: find_element_by_* commands are deprecated. Please use find_element() instead\n",
      "  regPrice = driver.find_element_by_class_name(\"disc-price\").text\n",
      "/var/folders/db/q45d2_5d0c52zkvrdw9tp0xm0000gn/T/ipykernel_5737/1366429987.py:19: DeprecationWarning: find_element_by_* commands are deprecated. Please use find_element() instead\n",
      "  tmppromoPrice = driver.find_element_by_class_name(\"price-value\").text\n",
      "/var/folders/db/q45d2_5d0c52zkvrdw9tp0xm0000gn/T/ipykernel_5737/1366429987.py:23: DeprecationWarning: find_element_by_* commands are deprecated. Please use find_element() instead\n",
      "  desc =  driver.find_element_by_class_name('productspec').text\n",
      "/var/folders/db/q45d2_5d0c52zkvrdw9tp0xm0000gn/T/ipykernel_5737/1366429987.py:3: DeprecationWarning: find_element_by_* commands are deprecated. Please use find_element() instead\n",
      "  boxitem = driver.find_element_by_xpath(\"//div[@class='box-item clearfix']\")\n",
      "/Users/gayuhkautaman/miniforge3/envs/dataMining/lib/python3.10/site-packages/selenium/webdriver/remote/webelement.py:464: UserWarning: find_elements_by_* commands are deprecated. Please use find_elements() instead\n",
      "  warnings.warn(\"find_elements_by_* commands are deprecated. Please use find_elements() instead\")\n",
      "/Users/gayuhkautaman/miniforge3/envs/dataMining/lib/python3.10/site-packages/selenium/webdriver/remote/webelement.py:446: UserWarning: find_element_by_* commands are deprecated. Please use find_element() instead\n",
      "  warnings.warn(\"find_element_by_* commands are deprecated. Please use find_element() instead\")\n"
     ]
    },
    {
     "name": "stdout",
     "output_type": "stream",
     "text": [
      "Collecting Cats\n",
      "Collecting Prix\n",
      "Collecting Desc\n",
      "Writing...\n",
      "Next OBJ\n"
     ]
    },
    {
     "name": "stderr",
     "output_type": "stream",
     "text": [
      "/var/folders/db/q45d2_5d0c52zkvrdw9tp0xm0000gn/T/ipykernel_5737/1366429987.py:8: DeprecationWarning: find_element_by_* commands are deprecated. Please use find_element() instead\n",
      "  tmpCategory = driver.find_element_by_class_name(\"breadcrumb\").text\n",
      "/var/folders/db/q45d2_5d0c52zkvrdw9tp0xm0000gn/T/ipykernel_5737/1366429987.py:14: DeprecationWarning: find_element_by_* commands are deprecated. Please use find_element() instead\n",
      "  regPrice = driver.find_element_by_class_name(\"disc-price\").text\n",
      "/var/folders/db/q45d2_5d0c52zkvrdw9tp0xm0000gn/T/ipykernel_5737/1366429987.py:19: DeprecationWarning: find_element_by_* commands are deprecated. Please use find_element() instead\n",
      "  tmppromoPrice = driver.find_element_by_class_name(\"price-value\").text\n",
      "/var/folders/db/q45d2_5d0c52zkvrdw9tp0xm0000gn/T/ipykernel_5737/1366429987.py:23: DeprecationWarning: find_element_by_* commands are deprecated. Please use find_element() instead\n",
      "  desc =  driver.find_element_by_class_name('productspec').text\n",
      "/var/folders/db/q45d2_5d0c52zkvrdw9tp0xm0000gn/T/ipykernel_5737/1366429987.py:3: DeprecationWarning: find_element_by_* commands are deprecated. Please use find_element() instead\n",
      "  boxitem = driver.find_element_by_xpath(\"//div[@class='box-item clearfix']\")\n",
      "/Users/gayuhkautaman/miniforge3/envs/dataMining/lib/python3.10/site-packages/selenium/webdriver/remote/webelement.py:464: UserWarning: find_elements_by_* commands are deprecated. Please use find_elements() instead\n",
      "  warnings.warn(\"find_elements_by_* commands are deprecated. Please use find_elements() instead\")\n",
      "/Users/gayuhkautaman/miniforge3/envs/dataMining/lib/python3.10/site-packages/selenium/webdriver/remote/webelement.py:446: UserWarning: find_element_by_* commands are deprecated. Please use find_element() instead\n",
      "  warnings.warn(\"find_element_by_* commands are deprecated. Please use find_element() instead\")\n"
     ]
    },
    {
     "name": "stdout",
     "output_type": "stream",
     "text": [
      "Collecting Cats\n",
      "Collecting Prix\n",
      "Collecting Desc\n",
      "Writing...\n",
      "Next OBJ\n"
     ]
    },
    {
     "name": "stderr",
     "output_type": "stream",
     "text": [
      "/var/folders/db/q45d2_5d0c52zkvrdw9tp0xm0000gn/T/ipykernel_5737/1366429987.py:8: DeprecationWarning: find_element_by_* commands are deprecated. Please use find_element() instead\n",
      "  tmpCategory = driver.find_element_by_class_name(\"breadcrumb\").text\n",
      "/var/folders/db/q45d2_5d0c52zkvrdw9tp0xm0000gn/T/ipykernel_5737/1366429987.py:14: DeprecationWarning: find_element_by_* commands are deprecated. Please use find_element() instead\n",
      "  regPrice = driver.find_element_by_class_name(\"disc-price\").text\n",
      "/var/folders/db/q45d2_5d0c52zkvrdw9tp0xm0000gn/T/ipykernel_5737/1366429987.py:19: DeprecationWarning: find_element_by_* commands are deprecated. Please use find_element() instead\n",
      "  tmppromoPrice = driver.find_element_by_class_name(\"price-value\").text\n",
      "/var/folders/db/q45d2_5d0c52zkvrdw9tp0xm0000gn/T/ipykernel_5737/1366429987.py:23: DeprecationWarning: find_element_by_* commands are deprecated. Please use find_element() instead\n",
      "  desc =  driver.find_element_by_class_name('productspec').text\n",
      "/var/folders/db/q45d2_5d0c52zkvrdw9tp0xm0000gn/T/ipykernel_5737/1366429987.py:3: DeprecationWarning: find_element_by_* commands are deprecated. Please use find_element() instead\n",
      "  boxitem = driver.find_element_by_xpath(\"//div[@class='box-item clearfix']\")\n",
      "/Users/gayuhkautaman/miniforge3/envs/dataMining/lib/python3.10/site-packages/selenium/webdriver/remote/webelement.py:464: UserWarning: find_elements_by_* commands are deprecated. Please use find_elements() instead\n",
      "  warnings.warn(\"find_elements_by_* commands are deprecated. Please use find_elements() instead\")\n",
      "/Users/gayuhkautaman/miniforge3/envs/dataMining/lib/python3.10/site-packages/selenium/webdriver/remote/webelement.py:446: UserWarning: find_element_by_* commands are deprecated. Please use find_element() instead\n",
      "  warnings.warn(\"find_element_by_* commands are deprecated. Please use find_element() instead\")\n"
     ]
    },
    {
     "name": "stdout",
     "output_type": "stream",
     "text": [
      "Collecting Cats\n",
      "Collecting Prix\n",
      "Collecting Desc\n",
      "Writing...\n",
      "Next OBJ\n"
     ]
    },
    {
     "name": "stderr",
     "output_type": "stream",
     "text": [
      "/var/folders/db/q45d2_5d0c52zkvrdw9tp0xm0000gn/T/ipykernel_5737/1366429987.py:8: DeprecationWarning: find_element_by_* commands are deprecated. Please use find_element() instead\n",
      "  tmpCategory = driver.find_element_by_class_name(\"breadcrumb\").text\n",
      "/var/folders/db/q45d2_5d0c52zkvrdw9tp0xm0000gn/T/ipykernel_5737/1366429987.py:14: DeprecationWarning: find_element_by_* commands are deprecated. Please use find_element() instead\n",
      "  regPrice = driver.find_element_by_class_name(\"disc-price\").text\n",
      "/var/folders/db/q45d2_5d0c52zkvrdw9tp0xm0000gn/T/ipykernel_5737/1366429987.py:19: DeprecationWarning: find_element_by_* commands are deprecated. Please use find_element() instead\n",
      "  tmppromoPrice = driver.find_element_by_class_name(\"price-value\").text\n",
      "/var/folders/db/q45d2_5d0c52zkvrdw9tp0xm0000gn/T/ipykernel_5737/1366429987.py:23: DeprecationWarning: find_element_by_* commands are deprecated. Please use find_element() instead\n",
      "  desc =  driver.find_element_by_class_name('productspec').text\n",
      "/var/folders/db/q45d2_5d0c52zkvrdw9tp0xm0000gn/T/ipykernel_5737/1366429987.py:3: DeprecationWarning: find_element_by_* commands are deprecated. Please use find_element() instead\n",
      "  boxitem = driver.find_element_by_xpath(\"//div[@class='box-item clearfix']\")\n",
      "/Users/gayuhkautaman/miniforge3/envs/dataMining/lib/python3.10/site-packages/selenium/webdriver/remote/webelement.py:464: UserWarning: find_elements_by_* commands are deprecated. Please use find_elements() instead\n",
      "  warnings.warn(\"find_elements_by_* commands are deprecated. Please use find_elements() instead\")\n",
      "/Users/gayuhkautaman/miniforge3/envs/dataMining/lib/python3.10/site-packages/selenium/webdriver/remote/webelement.py:446: UserWarning: find_element_by_* commands are deprecated. Please use find_element() instead\n",
      "  warnings.warn(\"find_element_by_* commands are deprecated. Please use find_element() instead\")\n"
     ]
    },
    {
     "name": "stdout",
     "output_type": "stream",
     "text": [
      "Collecting Cats\n",
      "Collecting Prix\n",
      "Collecting Desc\n",
      "Writing...\n",
      "Next OBJ\n"
     ]
    },
    {
     "name": "stderr",
     "output_type": "stream",
     "text": [
      "/var/folders/db/q45d2_5d0c52zkvrdw9tp0xm0000gn/T/ipykernel_5737/1366429987.py:8: DeprecationWarning: find_element_by_* commands are deprecated. Please use find_element() instead\n",
      "  tmpCategory = driver.find_element_by_class_name(\"breadcrumb\").text\n",
      "/var/folders/db/q45d2_5d0c52zkvrdw9tp0xm0000gn/T/ipykernel_5737/1366429987.py:14: DeprecationWarning: find_element_by_* commands are deprecated. Please use find_element() instead\n",
      "  regPrice = driver.find_element_by_class_name(\"disc-price\").text\n",
      "/var/folders/db/q45d2_5d0c52zkvrdw9tp0xm0000gn/T/ipykernel_5737/1366429987.py:19: DeprecationWarning: find_element_by_* commands are deprecated. Please use find_element() instead\n",
      "  tmppromoPrice = driver.find_element_by_class_name(\"price-value\").text\n",
      "/var/folders/db/q45d2_5d0c52zkvrdw9tp0xm0000gn/T/ipykernel_5737/1366429987.py:23: DeprecationWarning: find_element_by_* commands are deprecated. Please use find_element() instead\n",
      "  desc =  driver.find_element_by_class_name('productspec').text\n",
      "/var/folders/db/q45d2_5d0c52zkvrdw9tp0xm0000gn/T/ipykernel_5737/1366429987.py:3: DeprecationWarning: find_element_by_* commands are deprecated. Please use find_element() instead\n",
      "  boxitem = driver.find_element_by_xpath(\"//div[@class='box-item clearfix']\")\n",
      "/Users/gayuhkautaman/miniforge3/envs/dataMining/lib/python3.10/site-packages/selenium/webdriver/remote/webelement.py:464: UserWarning: find_elements_by_* commands are deprecated. Please use find_elements() instead\n",
      "  warnings.warn(\"find_elements_by_* commands are deprecated. Please use find_elements() instead\")\n",
      "/Users/gayuhkautaman/miniforge3/envs/dataMining/lib/python3.10/site-packages/selenium/webdriver/remote/webelement.py:446: UserWarning: find_element_by_* commands are deprecated. Please use find_element() instead\n",
      "  warnings.warn(\"find_element_by_* commands are deprecated. Please use find_element() instead\")\n"
     ]
    },
    {
     "name": "stdout",
     "output_type": "stream",
     "text": [
      "Collecting Cats\n",
      "Collecting Prix\n",
      "Collecting Desc\n",
      "Writing...\n",
      "Next OBJ\n"
     ]
    },
    {
     "name": "stderr",
     "output_type": "stream",
     "text": [
      "/var/folders/db/q45d2_5d0c52zkvrdw9tp0xm0000gn/T/ipykernel_5737/1366429987.py:8: DeprecationWarning: find_element_by_* commands are deprecated. Please use find_element() instead\n",
      "  tmpCategory = driver.find_element_by_class_name(\"breadcrumb\").text\n",
      "/var/folders/db/q45d2_5d0c52zkvrdw9tp0xm0000gn/T/ipykernel_5737/1366429987.py:14: DeprecationWarning: find_element_by_* commands are deprecated. Please use find_element() instead\n",
      "  regPrice = driver.find_element_by_class_name(\"disc-price\").text\n",
      "/var/folders/db/q45d2_5d0c52zkvrdw9tp0xm0000gn/T/ipykernel_5737/1366429987.py:19: DeprecationWarning: find_element_by_* commands are deprecated. Please use find_element() instead\n",
      "  tmppromoPrice = driver.find_element_by_class_name(\"price-value\").text\n",
      "/var/folders/db/q45d2_5d0c52zkvrdw9tp0xm0000gn/T/ipykernel_5737/1366429987.py:23: DeprecationWarning: find_element_by_* commands are deprecated. Please use find_element() instead\n",
      "  desc =  driver.find_element_by_class_name('productspec').text\n",
      "/var/folders/db/q45d2_5d0c52zkvrdw9tp0xm0000gn/T/ipykernel_5737/1366429987.py:3: DeprecationWarning: find_element_by_* commands are deprecated. Please use find_element() instead\n",
      "  boxitem = driver.find_element_by_xpath(\"//div[@class='box-item clearfix']\")\n",
      "/Users/gayuhkautaman/miniforge3/envs/dataMining/lib/python3.10/site-packages/selenium/webdriver/remote/webelement.py:464: UserWarning: find_elements_by_* commands are deprecated. Please use find_elements() instead\n",
      "  warnings.warn(\"find_elements_by_* commands are deprecated. Please use find_elements() instead\")\n",
      "/Users/gayuhkautaman/miniforge3/envs/dataMining/lib/python3.10/site-packages/selenium/webdriver/remote/webelement.py:446: UserWarning: find_element_by_* commands are deprecated. Please use find_element() instead\n",
      "  warnings.warn(\"find_element_by_* commands are deprecated. Please use find_element() instead\")\n"
     ]
    },
    {
     "name": "stdout",
     "output_type": "stream",
     "text": [
      "Collecting Cats\n",
      "Collecting Prix\n",
      "Collecting Desc\n",
      "Writing...\n",
      "Next OBJ\n"
     ]
    },
    {
     "name": "stderr",
     "output_type": "stream",
     "text": [
      "/var/folders/db/q45d2_5d0c52zkvrdw9tp0xm0000gn/T/ipykernel_5737/1366429987.py:8: DeprecationWarning: find_element_by_* commands are deprecated. Please use find_element() instead\n",
      "  tmpCategory = driver.find_element_by_class_name(\"breadcrumb\").text\n",
      "/var/folders/db/q45d2_5d0c52zkvrdw9tp0xm0000gn/T/ipykernel_5737/1366429987.py:14: DeprecationWarning: find_element_by_* commands are deprecated. Please use find_element() instead\n",
      "  regPrice = driver.find_element_by_class_name(\"disc-price\").text\n",
      "/var/folders/db/q45d2_5d0c52zkvrdw9tp0xm0000gn/T/ipykernel_5737/1366429987.py:19: DeprecationWarning: find_element_by_* commands are deprecated. Please use find_element() instead\n",
      "  tmppromoPrice = driver.find_element_by_class_name(\"price-value\").text\n",
      "/var/folders/db/q45d2_5d0c52zkvrdw9tp0xm0000gn/T/ipykernel_5737/1366429987.py:23: DeprecationWarning: find_element_by_* commands are deprecated. Please use find_element() instead\n",
      "  desc =  driver.find_element_by_class_name('productspec').text\n"
     ]
    }
   ],
   "source": [
    "for i in range(50):\n",
    "    action.pause(30)\n",
    "    boxitem = driver.find_element_by_xpath(\"//div[@class='box-item clearfix']\")\n",
    "    items = boxitem.find_elements_by_class_name('item')\n",
    "    eachItem = items[i].find_element_by_class_name(\"each-item\").click()\n",
    "    action.pause(3)\n",
    "    print(\"Collecting Cats\")\n",
    "    tmpCategory = driver.find_element_by_class_name(\"breadcrumb\").text\n",
    "    Category = tmpCategory.split(\"|\",len(tmpCategory))[1:-1]\n",
    "    Category = \" \".join(Category)\n",
    "    product = tmpCategory.rsplit(\"|\",1)[1]\n",
    "    print(\"Collecting Prix\")\n",
    "    try:\n",
    "        regPrice = driver.find_element_by_class_name(\"disc-price\").text\n",
    "    except:\n",
    "        regPrice = 0\n",
    "        print(\"NO DATA\")\n",
    "        pass\n",
    "    tmppromoPrice = driver.find_element_by_class_name(\"price-value\").text\n",
    "    tmppromoPrice = tmppromoPrice.split(\" \",2)[:2]\n",
    "    promoPrice = ''.join(tmppromoPrice).replace(',',' ')\n",
    "    print(\"Collecting Desc\")\n",
    "    desc =  driver.find_element_by_class_name('productspec').text\n",
    "    print(\"Writing...\")\n",
    "    write(Category,product,regPrice,promoPrice,desc,i)\n",
    "    print(\"Next OBJ\")\n",
    "    driver.back()\n",
    "    action.pause(30)\n",
    "    \n"
   ]
  },
  {
   "cell_type": "code",
   "execution_count": 9,
   "metadata": {},
   "outputs": [
    {
     "data": {
      "text/plain": [
       "[<selenium.webdriver.remote.webelement.WebElement (session=\"8bb56bb2-4ca7-4a16-9f0d-6c00ce16447b\", element=\"478ab05e-dd1e-4b49-a18c-6b1972b65677\")>,\n",
       " <selenium.webdriver.remote.webelement.WebElement (session=\"8bb56bb2-4ca7-4a16-9f0d-6c00ce16447b\", element=\"fe5cbcb8-04d5-4310-b66a-8d08def091f8\")>,\n",
       " <selenium.webdriver.remote.webelement.WebElement (session=\"8bb56bb2-4ca7-4a16-9f0d-6c00ce16447b\", element=\"c625ffae-e094-4558-b531-c17f9c3e9a38\")>,\n",
       " <selenium.webdriver.remote.webelement.WebElement (session=\"8bb56bb2-4ca7-4a16-9f0d-6c00ce16447b\", element=\"08c20ced-bb3a-4726-9325-e976510ffb8c\")>,\n",
       " <selenium.webdriver.remote.webelement.WebElement (session=\"8bb56bb2-4ca7-4a16-9f0d-6c00ce16447b\", element=\"9b247cfc-b669-40ba-93f9-c9a966c5cd5d\")>,\n",
       " <selenium.webdriver.remote.webelement.WebElement (session=\"8bb56bb2-4ca7-4a16-9f0d-6c00ce16447b\", element=\"5ae81e37-a00e-462f-a07a-315d667f25d5\")>,\n",
       " <selenium.webdriver.remote.webelement.WebElement (session=\"8bb56bb2-4ca7-4a16-9f0d-6c00ce16447b\", element=\"7e7bd916-2517-4031-b5cd-c835ddb9c522\")>,\n",
       " <selenium.webdriver.remote.webelement.WebElement (session=\"8bb56bb2-4ca7-4a16-9f0d-6c00ce16447b\", element=\"efbb3cf9-3897-46c0-ada6-d3491a663dd7\")>,\n",
       " <selenium.webdriver.remote.webelement.WebElement (session=\"8bb56bb2-4ca7-4a16-9f0d-6c00ce16447b\", element=\"9fd25fdf-7a3e-4749-b5a3-e722781be44e\")>,\n",
       " <selenium.webdriver.remote.webelement.WebElement (session=\"8bb56bb2-4ca7-4a16-9f0d-6c00ce16447b\", element=\"c50b56d7-2450-463d-86b4-62a751e09465\")>,\n",
       " <selenium.webdriver.remote.webelement.WebElement (session=\"8bb56bb2-4ca7-4a16-9f0d-6c00ce16447b\", element=\"9087ce4c-b1c7-4b81-bf67-31e2eac16744\")>,\n",
       " <selenium.webdriver.remote.webelement.WebElement (session=\"8bb56bb2-4ca7-4a16-9f0d-6c00ce16447b\", element=\"79e15f1f-7737-4107-bd1c-30b18ead47a7\")>,\n",
       " <selenium.webdriver.remote.webelement.WebElement (session=\"8bb56bb2-4ca7-4a16-9f0d-6c00ce16447b\", element=\"cc31b112-c290-413d-ac98-344d9c884c7a\")>,\n",
       " <selenium.webdriver.remote.webelement.WebElement (session=\"8bb56bb2-4ca7-4a16-9f0d-6c00ce16447b\", element=\"30b08774-0a99-4c77-a782-04e422988706\")>,\n",
       " <selenium.webdriver.remote.webelement.WebElement (session=\"8bb56bb2-4ca7-4a16-9f0d-6c00ce16447b\", element=\"b93a0e49-266e-462c-aea3-851e61178554\")>,\n",
       " <selenium.webdriver.remote.webelement.WebElement (session=\"8bb56bb2-4ca7-4a16-9f0d-6c00ce16447b\", element=\"01749bdb-5cbd-42fd-88b6-28e45c593da8\")>,\n",
       " <selenium.webdriver.remote.webelement.WebElement (session=\"8bb56bb2-4ca7-4a16-9f0d-6c00ce16447b\", element=\"46c25cdf-7a73-4e2c-a4bb-625295bb02a2\")>,\n",
       " <selenium.webdriver.remote.webelement.WebElement (session=\"8bb56bb2-4ca7-4a16-9f0d-6c00ce16447b\", element=\"56cb36cb-834c-46ab-959b-436a46ca285e\")>,\n",
       " <selenium.webdriver.remote.webelement.WebElement (session=\"8bb56bb2-4ca7-4a16-9f0d-6c00ce16447b\", element=\"feff00ab-aede-4128-97b6-ace1082f8357\")>,\n",
       " <selenium.webdriver.remote.webelement.WebElement (session=\"8bb56bb2-4ca7-4a16-9f0d-6c00ce16447b\", element=\"b5c5799b-c6c0-4845-9cbc-271e983dfd4e\")>,\n",
       " <selenium.webdriver.remote.webelement.WebElement (session=\"8bb56bb2-4ca7-4a16-9f0d-6c00ce16447b\", element=\"1024d8a1-e8b0-4032-8858-5ac92c8cbf4b\")>,\n",
       " <selenium.webdriver.remote.webelement.WebElement (session=\"8bb56bb2-4ca7-4a16-9f0d-6c00ce16447b\", element=\"bd79df7c-146d-4504-949c-6f770e9605fe\")>,\n",
       " <selenium.webdriver.remote.webelement.WebElement (session=\"8bb56bb2-4ca7-4a16-9f0d-6c00ce16447b\", element=\"d69bcab9-cc87-4670-9e39-135c44eae9ae\")>,\n",
       " <selenium.webdriver.remote.webelement.WebElement (session=\"8bb56bb2-4ca7-4a16-9f0d-6c00ce16447b\", element=\"8ee2e9b2-1c8b-4835-91ab-cacf914ef31a\")>,\n",
       " <selenium.webdriver.remote.webelement.WebElement (session=\"8bb56bb2-4ca7-4a16-9f0d-6c00ce16447b\", element=\"692206a7-bfaf-44cf-8c1d-b0850bd45d2e\")>,\n",
       " <selenium.webdriver.remote.webelement.WebElement (session=\"8bb56bb2-4ca7-4a16-9f0d-6c00ce16447b\", element=\"de2003a3-eb2f-4f90-ba9a-410d248e47e3\")>,\n",
       " <selenium.webdriver.remote.webelement.WebElement (session=\"8bb56bb2-4ca7-4a16-9f0d-6c00ce16447b\", element=\"0cc47185-e539-416c-b743-be0a60c1c74b\")>,\n",
       " <selenium.webdriver.remote.webelement.WebElement (session=\"8bb56bb2-4ca7-4a16-9f0d-6c00ce16447b\", element=\"d5021ed3-4e9f-4a68-9a56-af4dc4a50c72\")>,\n",
       " <selenium.webdriver.remote.webelement.WebElement (session=\"8bb56bb2-4ca7-4a16-9f0d-6c00ce16447b\", element=\"fb81326f-265f-42c3-8137-42ddf687ff10\")>,\n",
       " <selenium.webdriver.remote.webelement.WebElement (session=\"8bb56bb2-4ca7-4a16-9f0d-6c00ce16447b\", element=\"e4651e83-7ce4-4c70-bab2-91263bfbb9fa\")>,\n",
       " <selenium.webdriver.remote.webelement.WebElement (session=\"8bb56bb2-4ca7-4a16-9f0d-6c00ce16447b\", element=\"ca240125-052c-4da5-b110-010ebff7d1c6\")>,\n",
       " <selenium.webdriver.remote.webelement.WebElement (session=\"8bb56bb2-4ca7-4a16-9f0d-6c00ce16447b\", element=\"17559176-7048-4a02-8143-11961d459537\")>,\n",
       " <selenium.webdriver.remote.webelement.WebElement (session=\"8bb56bb2-4ca7-4a16-9f0d-6c00ce16447b\", element=\"cb142293-f96d-4f3a-a250-b812081e0860\")>,\n",
       " <selenium.webdriver.remote.webelement.WebElement (session=\"8bb56bb2-4ca7-4a16-9f0d-6c00ce16447b\", element=\"1f34d9cf-3060-490c-9fc9-d489730f6938\")>,\n",
       " <selenium.webdriver.remote.webelement.WebElement (session=\"8bb56bb2-4ca7-4a16-9f0d-6c00ce16447b\", element=\"139ead2f-e88e-4979-b721-3adbb70fb79d\")>,\n",
       " <selenium.webdriver.remote.webelement.WebElement (session=\"8bb56bb2-4ca7-4a16-9f0d-6c00ce16447b\", element=\"847aedb5-b408-497d-a6c7-37b2b92a72f6\")>,\n",
       " <selenium.webdriver.remote.webelement.WebElement (session=\"8bb56bb2-4ca7-4a16-9f0d-6c00ce16447b\", element=\"de29f2f1-d6b3-4ffe-b9c4-ba070d7f0908\")>,\n",
       " <selenium.webdriver.remote.webelement.WebElement (session=\"8bb56bb2-4ca7-4a16-9f0d-6c00ce16447b\", element=\"c4a3f795-d7d2-42e4-ab79-df9607984126\")>,\n",
       " <selenium.webdriver.remote.webelement.WebElement (session=\"8bb56bb2-4ca7-4a16-9f0d-6c00ce16447b\", element=\"0d632edd-7514-46c0-9d6e-36b62a8f5346\")>,\n",
       " <selenium.webdriver.remote.webelement.WebElement (session=\"8bb56bb2-4ca7-4a16-9f0d-6c00ce16447b\", element=\"e44e00ca-6fed-4bc5-91dc-bcb174735180\")>,\n",
       " <selenium.webdriver.remote.webelement.WebElement (session=\"8bb56bb2-4ca7-4a16-9f0d-6c00ce16447b\", element=\"83796ccf-58be-4f33-9b5a-3636f416cf39\")>,\n",
       " <selenium.webdriver.remote.webelement.WebElement (session=\"8bb56bb2-4ca7-4a16-9f0d-6c00ce16447b\", element=\"8b246b9d-1560-4bef-9506-f110d3ae4e4a\")>,\n",
       " <selenium.webdriver.remote.webelement.WebElement (session=\"8bb56bb2-4ca7-4a16-9f0d-6c00ce16447b\", element=\"3a930402-0c65-4bcf-8248-c12ba4e80cc3\")>,\n",
       " <selenium.webdriver.remote.webelement.WebElement (session=\"8bb56bb2-4ca7-4a16-9f0d-6c00ce16447b\", element=\"5bf8d47b-e22e-458b-a353-8340ebe2e7b7\")>,\n",
       " <selenium.webdriver.remote.webelement.WebElement (session=\"8bb56bb2-4ca7-4a16-9f0d-6c00ce16447b\", element=\"35ef3a15-41ed-4c7f-b9a4-fd5725ec98ba\")>,\n",
       " <selenium.webdriver.remote.webelement.WebElement (session=\"8bb56bb2-4ca7-4a16-9f0d-6c00ce16447b\", element=\"347da182-7faf-422e-b0f6-87eff651ef1f\")>,\n",
       " <selenium.webdriver.remote.webelement.WebElement (session=\"8bb56bb2-4ca7-4a16-9f0d-6c00ce16447b\", element=\"64eb1580-ed66-43bd-a196-69b26a2e87ff\")>,\n",
       " <selenium.webdriver.remote.webelement.WebElement (session=\"8bb56bb2-4ca7-4a16-9f0d-6c00ce16447b\", element=\"53ae713f-27c4-4d0a-84d8-f9da040fe368\")>,\n",
       " <selenium.webdriver.remote.webelement.WebElement (session=\"8bb56bb2-4ca7-4a16-9f0d-6c00ce16447b\", element=\"73129662-891a-46e1-8d15-54f78b5e9c12\")>,\n",
       " <selenium.webdriver.remote.webelement.WebElement (session=\"8bb56bb2-4ca7-4a16-9f0d-6c00ce16447b\", element=\"ce14cf20-4154-4376-a4cf-71a9fb70ab8e\")>]"
      ]
     },
     "execution_count": 9,
     "metadata": {},
     "output_type": "execute_result"
    }
   ],
   "source": [
    "items"
   ]
  },
  {
   "cell_type": "code",
   "execution_count": 199,
   "metadata": {},
   "outputs": [
    {
     "name": "stderr",
     "output_type": "stream",
     "text": [
      "/var/folders/db/q45d2_5d0c52zkvrdw9tp0xm0000gn/T/ipykernel_5737/1164752055.py:1: DeprecationWarning: find_element_by_* commands are deprecated. Please use find_element() instead\n",
      "  tmpCategory = driver.find_element_by_class_name(\"breadcrumb\").text\n"
     ]
    },
    {
     "data": {
      "text/plain": [
       "[' Makanan ', ' Bahan Masakan ', ' Minyak & Mentega ', ' Minyak Goreng ']"
      ]
     },
     "execution_count": 199,
     "metadata": {},
     "output_type": "execute_result"
    }
   ],
   "source": [
    "tmpCategory = driver.find_element_by_class_name(\"breadcrumb\").text\n",
    "Category = tmpCategory.split(\"|\",len(tmpCategory))[1:-1]\n",
    "Category"
   ]
  },
  {
   "cell_type": "code",
   "execution_count": null,
   "metadata": {},
   "outputs": [],
   "source": []
  }
 ],
 "metadata": {
  "interpreter": {
   "hash": "52984872766fabfa6322c34ae5cc2a5ac96aa0d05201d25acb1929140fce0c64"
  },
  "kernelspec": {
   "display_name": "Python 3.10.2 64-bit ('dataMining': conda)",
   "language": "python",
   "name": "python3"
  },
  "language_info": {
   "codemirror_mode": {
    "name": "ipython",
    "version": 3
   },
   "file_extension": ".py",
   "mimetype": "text/x-python",
   "name": "python",
   "nbconvert_exporter": "python",
   "pygments_lexer": "ipython3",
   "version": "3.10.2"
  },
  "orig_nbformat": 4
 },
 "nbformat": 4,
 "nbformat_minor": 2
}
