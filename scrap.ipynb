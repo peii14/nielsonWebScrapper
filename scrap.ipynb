{
 "cells": [
  {
   "cell_type": "code",
   "execution_count": 1,
   "metadata": {},
   "outputs": [],
   "source": [
    "import pandas as pd\n",
    "import numpy as np\n",
    "import matplotlib as plt\n",
    "import seaborn as sns\n",
    "import selenium\n",
    "from selenium import webdriver as wb\n",
    "\n",
    "%matplotlib inline"
   ]
  },
  {
   "cell_type": "code",
   "execution_count": 13,
   "metadata": {},
   "outputs": [],
   "source": [
    "from selenium import webdriver\n",
    "from selenium.webdriver.firefox.options import Options"
   ]
  },
  {
   "cell_type": "code",
   "execution_count": 18,
   "metadata": {},
   "outputs": [
    {
     "name": "stderr",
     "output_type": "stream",
     "text": [
      "/var/folders/db/q45d2_5d0c52zkvrdw9tp0xm0000gn/T/ipykernel_1162/1667867126.py:3: DeprecationWarning: executable_path has been deprecated, please pass in a Service object\n",
      "  driver = webdriver.Firefox(executable_path='./geckodriver', options=options)\n"
     ]
    }
   ],
   "source": [
    "options = Options()\n",
    "options.binary_location = '/Applications/Firefox Developer Edition.app/Contents/MacOS/firefox-bin'\n",
    "driver = webdriver.Firefox(executable_path='./geckodriver', options=options)\n",
    "driver.get('http://google.com/')"
   ]
  },
  {
   "cell_type": "code",
   "execution_count": 3,
   "metadata": {},
   "outputs": [],
   "source": []
  }
 ],
 "metadata": {
  "interpreter": {
   "hash": "52984872766fabfa6322c34ae5cc2a5ac96aa0d05201d25acb1929140fce0c64"
  },
  "kernelspec": {
   "display_name": "Python 3.10.2 64-bit ('dataMining': conda)",
   "language": "python",
   "name": "python3"
  },
  "language_info": {
   "codemirror_mode": {
    "name": "ipython",
    "version": 3
   },
   "file_extension": ".py",
   "mimetype": "text/x-python",
   "name": "python",
   "nbconvert_exporter": "python",
   "pygments_lexer": "ipython3",
   "version": "3.10.2"
  },
  "orig_nbformat": 4
 },
 "nbformat": 4,
 "nbformat_minor": 2
}
